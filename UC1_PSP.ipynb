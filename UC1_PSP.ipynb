{
 "cells": [
  {
   "cell_type": "code",
   "execution_count": 2,
   "id": "3a739af7",
   "metadata": {},
   "outputs": [],
   "source": [
    "import pandas as pd \n",
    "import matplotlib.pyplot as plt\n",
    "import seaborn as sns\n",
    "import math\n",
    "import featuretools as ft\n",
    "\n",
    "from sklearn.preprocessing import StandardScaler, LabelEncoder\n",
    "import numpy as np\n",
    "\n",
    "from sklearn.model_selection import train_test_split, cross_val_score, StratifiedKFold,KFold,RandomizedSearchCV, GridSearchCV\n",
    "from sklearn.dummy import DummyClassifier\n",
    "from sklearn.svm import SVC\n",
    "from sklearn.linear_model import LogisticRegression\n",
    "from sklearn.ensemble import RandomForestClassifier,GradientBoostingClassifier\n",
    "from sklearn import tree\n",
    "from sklearn.tree import DecisionTreeClassifier\n",
    "\n",
    "import xgboost as xgb\n",
    "\n",
    "from sklearn.metrics import auc,roc_curve,roc_auc_score,accuracy_score, classification_report, confusion_matrix, precision_score, recall_score, f1_score\n",
    "\n",
    "from scipy.stats import randint\n"
   ]
  },
  {
   "cell_type": "code",
   "execution_count": 3,
   "id": "13b32c91",
   "metadata": {},
   "outputs": [],
   "source": [
    "file_path = '/Users/marvinschmitt/Library/CloudStorage/OneDrive-Persönlich/M.Sc. Data Science/15 Model Engineering/use_case_1/PSP_Jan_Feb_2019.csv'"
   ]
  },
  {
   "cell_type": "code",
   "execution_count": 4,
   "id": "2b958418",
   "metadata": {},
   "outputs": [],
   "source": [
    "psp = pd.read_csv(file_path,sep=';',index_col=False)\n",
    "\n",
    "# Index-Spalte löschen \n",
    "psp=psp.drop(psp.columns[0], axis=1)"
   ]
  },
  {
   "cell_type": "code",
   "execution_count": 5,
   "id": "a58f1f06",
   "metadata": {},
   "outputs": [
    {
     "data": {
      "text/html": [
       "<div>\n",
       "<style scoped>\n",
       "    .dataframe tbody tr th:only-of-type {\n",
       "        vertical-align: middle;\n",
       "    }\n",
       "\n",
       "    .dataframe tbody tr th {\n",
       "        vertical-align: top;\n",
       "    }\n",
       "\n",
       "    .dataframe thead th {\n",
       "        text-align: right;\n",
       "    }\n",
       "</style>\n",
       "<table border=\"1\" class=\"dataframe\">\n",
       "  <thead>\n",
       "    <tr style=\"text-align: right;\">\n",
       "      <th></th>\n",
       "      <th>tmsp</th>\n",
       "      <th>country</th>\n",
       "      <th>amount</th>\n",
       "      <th>success</th>\n",
       "      <th>PSP</th>\n",
       "      <th>3D_secured</th>\n",
       "      <th>card</th>\n",
       "    </tr>\n",
       "  </thead>\n",
       "  <tbody>\n",
       "    <tr>\n",
       "      <th>18534</th>\n",
       "      <td>2019-01-21 22:50:14</td>\n",
       "      <td>Germany</td>\n",
       "      <td>220</td>\n",
       "      <td>0</td>\n",
       "      <td>UK_Card</td>\n",
       "      <td>0</td>\n",
       "      <td>Master</td>\n",
       "    </tr>\n",
       "    <tr>\n",
       "      <th>43520</th>\n",
       "      <td>2019-02-20 04:56:50</td>\n",
       "      <td>Austria</td>\n",
       "      <td>121</td>\n",
       "      <td>0</td>\n",
       "      <td>Moneycard</td>\n",
       "      <td>1</td>\n",
       "      <td>Master</td>\n",
       "    </tr>\n",
       "    <tr>\n",
       "      <th>19718</th>\n",
       "      <td>2019-01-23 09:18:00</td>\n",
       "      <td>Switzerland</td>\n",
       "      <td>206</td>\n",
       "      <td>0</td>\n",
       "      <td>UK_Card</td>\n",
       "      <td>0</td>\n",
       "      <td>Master</td>\n",
       "    </tr>\n",
       "    <tr>\n",
       "      <th>13798</th>\n",
       "      <td>2019-01-15 18:56:21</td>\n",
       "      <td>Switzerland</td>\n",
       "      <td>82</td>\n",
       "      <td>1</td>\n",
       "      <td>Moneycard</td>\n",
       "      <td>1</td>\n",
       "      <td>Master</td>\n",
       "    </tr>\n",
       "    <tr>\n",
       "      <th>15567</th>\n",
       "      <td>2019-01-17 21:57:45</td>\n",
       "      <td>Germany</td>\n",
       "      <td>184</td>\n",
       "      <td>0</td>\n",
       "      <td>Goldcard</td>\n",
       "      <td>0</td>\n",
       "      <td>Diners</td>\n",
       "    </tr>\n",
       "  </tbody>\n",
       "</table>\n",
       "</div>"
      ],
      "text/plain": [
       "                      tmsp      country  amount  success        PSP  \\\n",
       "18534  2019-01-21 22:50:14      Germany     220        0    UK_Card   \n",
       "43520  2019-02-20 04:56:50      Austria     121        0  Moneycard   \n",
       "19718  2019-01-23 09:18:00  Switzerland     206        0    UK_Card   \n",
       "13798  2019-01-15 18:56:21  Switzerland      82        1  Moneycard   \n",
       "15567  2019-01-17 21:57:45      Germany     184        0   Goldcard   \n",
       "\n",
       "       3D_secured    card  \n",
       "18534           0  Master  \n",
       "43520           1  Master  \n",
       "19718           0  Master  \n",
       "13798           1  Master  \n",
       "15567           0  Diners  "
      ]
     },
     "execution_count": 5,
     "metadata": {},
     "output_type": "execute_result"
    }
   ],
   "source": [
    "psp.sample(5)"
   ]
  },
  {
   "cell_type": "markdown",
   "id": "19353160",
   "metadata": {},
   "source": [
    "# EDA "
   ]
  },
  {
   "cell_type": "code",
   "execution_count": 140,
   "id": "9074bf7d",
   "metadata": {},
   "outputs": [
    {
     "data": {
      "text/plain": [
       "(50410, 7)"
      ]
     },
     "execution_count": 140,
     "metadata": {},
     "output_type": "execute_result"
    }
   ],
   "source": [
    "psp.shape"
   ]
  },
  {
   "cell_type": "code",
   "execution_count": 141,
   "id": "78ba4b02",
   "metadata": {},
   "outputs": [
    {
     "name": "stdout",
     "output_type": "stream",
     "text": [
      "<class 'pandas.core.frame.DataFrame'>\n",
      "RangeIndex: 50410 entries, 0 to 50409\n",
      "Data columns (total 7 columns):\n",
      " #   Column      Non-Null Count  Dtype \n",
      "---  ------      --------------  ----- \n",
      " 0   tmsp        50410 non-null  object\n",
      " 1   country     50410 non-null  object\n",
      " 2   amount      50410 non-null  int64 \n",
      " 3   success     50410 non-null  int64 \n",
      " 4   PSP         50410 non-null  object\n",
      " 5   3D_secured  50410 non-null  int64 \n",
      " 6   card        50410 non-null  object\n",
      "dtypes: int64(3), object(4)\n",
      "memory usage: 2.7+ MB\n"
     ]
    }
   ],
   "source": [
    "psp.info()"
   ]
  },
  {
   "cell_type": "code",
   "execution_count": 217,
   "id": "25e5fd13",
   "metadata": {
    "scrolled": true
   },
   "outputs": [
    {
     "name": "stdout",
     "output_type": "stream",
     "text": [
      "Empty DataFrame\n",
      "Columns: [tmsp, country, amount, success, PSP, 3D_secured, card]\n",
      "Index: []\n"
     ]
    }
   ],
   "source": [
    "# Nach Leerzeichen in String-Zellen suchen\n",
    "whitespace_values = psp.applymap(lambda x: isinstance(x, str) and x.isspace())\n",
    "\n",
    "rows_with_true = whitespace_values[whitespace_values.any(axis=1)]\n",
    "\n",
    "# Ergebnis anzeigen\n",
    "print(rows_with_true)"
   ]
  },
  {
   "cell_type": "code",
   "execution_count": 72,
   "id": "72a09619-5225-4781-bbb8-ac8a69cf5c52",
   "metadata": {},
   "outputs": [
    {
     "name": "stdout",
     "output_type": "stream",
     "text": [
      "UK_Card       52.487602\n",
      "Simplecard    24.689546\n",
      "Moneycard     16.459036\n",
      "Goldcard       6.363817\n",
      "Name: PSP, dtype: float64\n"
     ]
    }
   ],
   "source": [
    "psp_verteilung = psp['PSP'].value_counts(normalize=True) * 100\n",
    "\n",
    "print(psp_verteilung)"
   ]
  },
  {
   "cell_type": "code",
   "execution_count": 73,
   "id": "ba11f58c",
   "metadata": {},
   "outputs": [
    {
     "data": {
      "text/html": [
       "<div>\n",
       "<style scoped>\n",
       "    .dataframe tbody tr th:only-of-type {\n",
       "        vertical-align: middle;\n",
       "    }\n",
       "\n",
       "    .dataframe tbody tr th {\n",
       "        vertical-align: top;\n",
       "    }\n",
       "\n",
       "    .dataframe thead th {\n",
       "        text-align: right;\n",
       "    }\n",
       "</style>\n",
       "<table border=\"1\" class=\"dataframe\">\n",
       "  <thead>\n",
       "    <tr style=\"text-align: right;\">\n",
       "      <th></th>\n",
       "      <th>amount</th>\n",
       "      <th>success</th>\n",
       "      <th>3D_secured</th>\n",
       "      <th>fee</th>\n",
       "    </tr>\n",
       "  </thead>\n",
       "  <tbody>\n",
       "    <tr>\n",
       "      <th>count</th>\n",
       "      <td>50410.000000</td>\n",
       "      <td>50410.000000</td>\n",
       "      <td>50410.000000</td>\n",
       "      <td>50410.000000</td>\n",
       "    </tr>\n",
       "    <tr>\n",
       "      <th>mean</th>\n",
       "      <td>202.395715</td>\n",
       "      <td>0.202896</td>\n",
       "      <td>0.238266</td>\n",
       "      <td>1.756477</td>\n",
       "    </tr>\n",
       "    <tr>\n",
       "      <th>std</th>\n",
       "      <td>96.274730</td>\n",
       "      <td>0.402160</td>\n",
       "      <td>0.426027</td>\n",
       "      <td>1.814051</td>\n",
       "    </tr>\n",
       "    <tr>\n",
       "      <th>min</th>\n",
       "      <td>6.000000</td>\n",
       "      <td>0.000000</td>\n",
       "      <td>0.000000</td>\n",
       "      <td>0.500000</td>\n",
       "    </tr>\n",
       "    <tr>\n",
       "      <th>25%</th>\n",
       "      <td>133.000000</td>\n",
       "      <td>0.000000</td>\n",
       "      <td>0.000000</td>\n",
       "      <td>1.000000</td>\n",
       "    </tr>\n",
       "    <tr>\n",
       "      <th>50%</th>\n",
       "      <td>201.000000</td>\n",
       "      <td>0.000000</td>\n",
       "      <td>0.000000</td>\n",
       "      <td>1.000000</td>\n",
       "    </tr>\n",
       "    <tr>\n",
       "      <th>75%</th>\n",
       "      <td>269.000000</td>\n",
       "      <td>0.000000</td>\n",
       "      <td>0.000000</td>\n",
       "      <td>2.000000</td>\n",
       "    </tr>\n",
       "    <tr>\n",
       "      <th>max</th>\n",
       "      <td>630.000000</td>\n",
       "      <td>1.000000</td>\n",
       "      <td>1.000000</td>\n",
       "      <td>10.000000</td>\n",
       "    </tr>\n",
       "  </tbody>\n",
       "</table>\n",
       "</div>"
      ],
      "text/plain": [
       "             amount       success    3D_secured           fee\n",
       "count  50410.000000  50410.000000  50410.000000  50410.000000\n",
       "mean     202.395715      0.202896      0.238266      1.756477\n",
       "std       96.274730      0.402160      0.426027      1.814051\n",
       "min        6.000000      0.000000      0.000000      0.500000\n",
       "25%      133.000000      0.000000      0.000000      1.000000\n",
       "50%      201.000000      0.000000      0.000000      1.000000\n",
       "75%      269.000000      0.000000      0.000000      2.000000\n",
       "max      630.000000      1.000000      1.000000     10.000000"
      ]
     },
     "execution_count": 73,
     "metadata": {},
     "output_type": "execute_result"
    }
   ],
   "source": [
    "psp.describe()"
   ]
  },
  {
   "cell_type": "markdown",
   "id": "72bce7fe",
   "metadata": {},
   "source": [
    "# ToDo: Ausreißer chekcen!!!!"
   ]
  },
  {
   "cell_type": "code",
   "execution_count": 75,
   "id": "ea12c580",
   "metadata": {},
   "outputs": [
    {
     "data": {
      "image/png": "[encoded data removed]",
      "text/plain": [
       "<Figure size 864x432 with 4 Axes>"
      ]
     },
     "metadata": {},
     "output_type": "display_data"
    }
   ],
   "source": [
    "def plot_distplots(dataframe, numeric_columns):\n",
    "    number_of_columns = 3\n",
    "    number_of_rows = math.ceil((len(numeric_columns) - 1) / number_of_columns)\n",
    "\n",
    "    plt.figure(figsize=(4 * number_of_columns, 6 * number_of_rows))\n",
    "    \n",
    "    for i, column in enumerate(numeric_columns):\n",
    "        plt.subplot(number_of_rows + 1, number_of_columns, i + 1)\n",
    "        sns.set_style('whitegrid')\n",
    "        sns.histplot(dataframe[column], kde=True)\n",
    "        plt.title(column)\n",
    "    \n",
    "    plt.tight_layout()\n",
    "    plt.show()\n",
    "\n",
    "# Beispielaufruf\n",
    "plot_distplots(psp, psp.select_dtypes(include='number').columns)"
   ]
  },
  {
   "cell_type": "code",
   "execution_count": 76,
   "id": "c6b810d6",
   "metadata": {},
   "outputs": [
    {
     "data": {
      "text/plain": [
       "<seaborn.axisgrid.PairGrid at 0x7fc410671b50>"
      ]
     },
     "execution_count": 76,
     "metadata": {},
     "output_type": "execute_result"
    },
    {
     "data": {
      "image/png": "[encoded data removed]",
      "text/plain": [
       "<Figure size 584.5x540 with 12 Axes>"
      ]
     },
     "metadata": {},
     "output_type": "display_data"
    }
   ],
   "source": [
    "sns.pairplot(psp,hue='success')"
   ]
  },
  {
   "cell_type": "code",
   "execution_count": 78,
   "id": "dc40fc15-92d9-4ce5-9e2b-68805ab58312",
   "metadata": {},
   "outputs": [
    {
     "data": {
      "image/png": "[encoded data removed]",
      "text/plain": [
       "<Figure size 432x288 with 1 Axes>"
      ]
     },
     "metadata": {},
     "output_type": "display_data"
    }
   ],
   "source": [
    "psp_success_counts = psp.groupby(['PSP', 'success']).size().unstack(fill_value=0)\n",
    "\n",
    "# Gestapeltes Balkendiagramm erstellen\n",
    "psp_success_counts.plot(kind='bar', stacked=True, colormap='viridis')\n",
    "plt.title('Häufigkeitsverteilung der PSPs nach Erfolg')\n",
    "plt.xlabel('PSP')\n",
    "plt.ylabel('Anzahl der Transaktionen')\n",
    "plt.legend(title='Erfolg', labels=['Nicht erfolgreich', 'Erfolgreich'])\n",
    "plt.show()\n"
   ]
  },
  {
   "cell_type": "code",
   "execution_count": 79,
   "id": "563abd6d-683b-417c-99ed-4186b1cc031d",
   "metadata": {},
   "outputs": [
    {
     "data": {
      "text/plain": [
       "<seaborn.axisgrid.FacetGrid at 0x7fc3f0873940>"
      ]
     },
     "execution_count": 79,
     "metadata": {},
     "output_type": "execute_result"
    },
    {
     "data": {
      "image/png": "[encoded data removed]",
      "text/plain": [
       "<Figure size 360x360 with 1 Axes>"
      ]
     },
     "metadata": {},
     "output_type": "display_data"
    }
   ],
   "source": [
    "sns.displot(psp['amount'])"
   ]
  },
  {
   "cell_type": "code",
   "execution_count": 80,
   "id": "ab6cbc5e-b028-4bb4-b3dd-8b61c7d25f24",
   "metadata": {},
   "outputs": [
    {
     "data": {
      "image/png": "[encoded data removed]",
      "text/plain": [
       "<Figure size 432x288 with 1 Axes>"
      ]
     },
     "metadata": {},
     "output_type": "display_data"
    }
   ],
   "source": [
    "country_success_counts = psp.groupby(['country', 'success']).size().unstack(fill_value=0)\n",
    "\n",
    "# Gestapeltes Balkendiagramm erstellen\n",
    "country_success_counts.plot(kind='bar', stacked=True, colormap='viridis')\n",
    "plt.title('Häufigkeitsverteilung der PSPs nach Erfolg')\n",
    "plt.xlabel('Country')\n",
    "plt.ylabel('Anzahl der Transaktionen')\n",
    "plt.legend(title='Erfolg', labels=['Nicht erfolgreich', 'Erfolgreich'])\n",
    "plt.show()"
   ]
  },
  {
   "cell_type": "code",
   "execution_count": 81,
   "id": "7a2387e9-cb96-4be1-b902-252c44cfc9ef",
   "metadata": {},
   "outputs": [
    {
     "data": {
      "image/png": "[encoded data removed]",
      "text/plain": [
       "<Figure size 432x288 with 1 Axes>"
      ]
     },
     "metadata": {},
     "output_type": "display_data"
    }
   ],
   "source": [
    "country_success_counts = psp.groupby(['3D_secured', 'success']).size().unstack(fill_value=0)\n",
    "\n",
    "# Gestapeltes Balkendiagramm erstellen\n",
    "country_success_counts.plot(kind='bar', stacked=True, colormap='viridis')\n",
    "plt.title('Häufigkeitsverteilung der 3D_secured nach Erfolg')\n",
    "plt.xlabel('Country')\n",
    "plt.ylabel('Anzahl der Transaktionen')\n",
    "plt.legend(title='Erfolg', labels=['Nicht erfolgreich', 'Erfolgreich'])\n",
    "plt.show()"
   ]
  },
  {
   "cell_type": "code",
   "execution_count": 82,
   "id": "1b267427-1d0e-4ca8-af80-ff228d082f3a",
   "metadata": {},
   "outputs": [
    {
     "data": {
      "image/png": "[encoded data removed]",
      "text/plain": [
       "<Figure size 432x288 with 1 Axes>"
      ]
     },
     "metadata": {},
     "output_type": "display_data"
    }
   ],
   "source": [
    "card_success_counts = psp.groupby(['card', 'success']).size().unstack(fill_value=0)\n",
    "\n",
    "# Gestapeltes Balkendiagramm erstellen\n",
    "card_success_counts.plot(kind='bar', stacked=True, colormap='viridis')\n",
    "plt.title('Häufigkeitsverteilung der PSPs nach Erfolg')\n",
    "plt.xlabel('Card')\n",
    "plt.ylabel('Anzahl der Transaktionen')\n",
    "plt.legend(title='Erfolg', labels=['Nicht erfolgreich', 'Erfolgreich'])\n",
    "plt.show()"
   ]
  },
  {
   "cell_type": "code",
   "execution_count": 83,
   "id": "f030dcbb",
   "metadata": {},
   "outputs": [],
   "source": [
    "numeric_columns = psp.select_dtypes(include='number')\n",
    "categorical_columns = psp.select_dtypes(include='object')"
   ]
  },
  {
   "cell_type": "code",
   "execution_count": 84,
   "id": "3d27724c",
   "metadata": {},
   "outputs": [
    {
     "data": {
      "image/png": "[encoded data removed]",
      "text/plain": [
       "<Figure size 864x864 with 4 Axes>"
      ]
     },
     "metadata": {},
     "output_type": "display_data"
    }
   ],
   "source": [
    "numeric_columns.hist(figsize=(12,12),bins=30)\n",
    "plt.show()"
   ]
  },
  {
   "cell_type": "code",
   "execution_count": 85,
   "id": "4a9cb784",
   "metadata": {},
   "outputs": [
    {
     "data": {
      "text/html": [
       "<div>\n",
       "<style scoped>\n",
       "    .dataframe tbody tr th:only-of-type {\n",
       "        vertical-align: middle;\n",
       "    }\n",
       "\n",
       "    .dataframe tbody tr th {\n",
       "        vertical-align: top;\n",
       "    }\n",
       "\n",
       "    .dataframe thead th {\n",
       "        text-align: right;\n",
       "    }\n",
       "</style>\n",
       "<table border=\"1\" class=\"dataframe\">\n",
       "  <thead>\n",
       "    <tr style=\"text-align: right;\">\n",
       "      <th></th>\n",
       "      <th>tmsp</th>\n",
       "      <th>country</th>\n",
       "      <th>PSP</th>\n",
       "      <th>card</th>\n",
       "    </tr>\n",
       "  </thead>\n",
       "  <tbody>\n",
       "    <tr>\n",
       "      <th>count</th>\n",
       "      <td>50410</td>\n",
       "      <td>50410</td>\n",
       "      <td>50410</td>\n",
       "      <td>50410</td>\n",
       "    </tr>\n",
       "    <tr>\n",
       "      <th>unique</th>\n",
       "      <td>50121</td>\n",
       "      <td>3</td>\n",
       "      <td>4</td>\n",
       "      <td>3</td>\n",
       "    </tr>\n",
       "    <tr>\n",
       "      <th>top</th>\n",
       "      <td>2019-02-12 03:30:54</td>\n",
       "      <td>Germany</td>\n",
       "      <td>UK_Card</td>\n",
       "      <td>Master</td>\n",
       "    </tr>\n",
       "    <tr>\n",
       "      <th>freq</th>\n",
       "      <td>3</td>\n",
       "      <td>30233</td>\n",
       "      <td>26459</td>\n",
       "      <td>29002</td>\n",
       "    </tr>\n",
       "  </tbody>\n",
       "</table>\n",
       "</div>"
      ],
      "text/plain": [
       "                       tmsp  country      PSP    card\n",
       "count                 50410    50410    50410   50410\n",
       "unique                50121        3        4       3\n",
       "top     2019-02-12 03:30:54  Germany  UK_Card  Master\n",
       "freq                      3    30233    26459   29002"
      ]
     },
     "execution_count": 85,
     "metadata": {},
     "output_type": "execute_result"
    }
   ],
   "source": [
    "categorical_columns.describe(include='object')"
   ]
  },
  {
   "cell_type": "markdown",
   "id": "2b674935-d390-4f98-9ecb-86c4dc7a4ea1",
   "metadata": {},
   "source": [
    "# Multivariate Analysis"
   ]
  },
  {
   "cell_type": "code",
   "execution_count": 86,
   "id": "df2a7a4f-170b-4804-bcaf-76c940a951ce",
   "metadata": {},
   "outputs": [
    {
     "name": "stdout",
     "output_type": "stream",
     "text": [
      "Korrelation zwischen '3D_secured' und 'success': 0.05928394865359395\n"
     ]
    }
   ],
   "source": [
    "\n",
    "# Annahme: 'datensatz' ist der DataFrame, der deine Daten enthält\n",
    "korrelation = psp['3D_secured'].corr(psp['success'])\n",
    "\n",
    "print(f\"Korrelation zwischen '3D_secured' und 'success': {korrelation}\")\n"
   ]
  },
  {
   "cell_type": "code",
   "execution_count": 139,
   "id": "36efcd6b",
   "metadata": {},
   "outputs": [
    {
     "data": {
      "image/png": "[encoded data removed]",
      "text/plain": [
       "<Figure size 432x288 with 2 Axes>"
      ]
     },
     "metadata": {
      "needs_background": "light"
     },
     "output_type": "display_data"
    }
   ],
   "source": [
    "correlation_matrix = psp.corr()\n",
    "sns.heatmap(correlation_matrix, annot=True, cmap='coolwarm', fmt='.2f')\n",
    "plt.title('Korrelationsmatrix')\n",
    "plt.show()\n"
   ]
  },
  {
   "cell_type": "markdown",
   "id": "287be997-b739-43c6-a13d-3f987405024e",
   "metadata": {},
   "source": [
    "# Datenaufbereitung / Preprocessing"
   ]
  },
  {
   "cell_type": "markdown",
   "id": "9b0015de",
   "metadata": {},
   "source": [
    "## Encoding"
   ]
  },
  {
   "cell_type": "code",
   "execution_count": 5,
   "id": "cc421b05",
   "metadata": {
    "scrolled": true
   },
   "outputs": [
    {
     "data": {
      "text/html": [
       "<div>\n",
       "<style scoped>\n",
       "    .dataframe tbody tr th:only-of-type {\n",
       "        vertical-align: middle;\n",
       "    }\n",
       "\n",
       "    .dataframe tbody tr th {\n",
       "        vertical-align: top;\n",
       "    }\n",
       "\n",
       "    .dataframe thead th {\n",
       "        text-align: right;\n",
       "    }\n",
       "</style>\n",
       "<table border=\"1\" class=\"dataframe\">\n",
       "  <thead>\n",
       "    <tr style=\"text-align: right;\">\n",
       "      <th></th>\n",
       "      <th>tmsp</th>\n",
       "      <th>amount</th>\n",
       "      <th>success</th>\n",
       "      <th>3D_secured</th>\n",
       "      <th>PSP_Goldcard</th>\n",
       "      <th>PSP_Moneycard</th>\n",
       "      <th>PSP_Simplecard</th>\n",
       "      <th>PSP_UK_Card</th>\n",
       "      <th>country_Austria</th>\n",
       "      <th>country_Germany</th>\n",
       "      <th>country_Switzerland</th>\n",
       "      <th>card_Diners</th>\n",
       "      <th>card_Master</th>\n",
       "      <th>card_Visa</th>\n",
       "    </tr>\n",
       "  </thead>\n",
       "  <tbody>\n",
       "    <tr>\n",
       "      <th>46282</th>\n",
       "      <td>2019-02-23 18:46:03</td>\n",
       "      <td>183</td>\n",
       "      <td>1</td>\n",
       "      <td>0</td>\n",
       "      <td>0</td>\n",
       "      <td>1</td>\n",
       "      <td>0</td>\n",
       "      <td>0</td>\n",
       "      <td>1</td>\n",
       "      <td>0</td>\n",
       "      <td>0</td>\n",
       "      <td>0</td>\n",
       "      <td>1</td>\n",
       "      <td>0</td>\n",
       "    </tr>\n",
       "    <tr>\n",
       "      <th>40193</th>\n",
       "      <td>2019-02-15 20:58:18</td>\n",
       "      <td>232</td>\n",
       "      <td>0</td>\n",
       "      <td>0</td>\n",
       "      <td>0</td>\n",
       "      <td>0</td>\n",
       "      <td>0</td>\n",
       "      <td>1</td>\n",
       "      <td>1</td>\n",
       "      <td>0</td>\n",
       "      <td>0</td>\n",
       "      <td>0</td>\n",
       "      <td>1</td>\n",
       "      <td>0</td>\n",
       "    </tr>\n",
       "    <tr>\n",
       "      <th>20840</th>\n",
       "      <td>2019-01-24 18:31:00</td>\n",
       "      <td>298</td>\n",
       "      <td>0</td>\n",
       "      <td>1</td>\n",
       "      <td>0</td>\n",
       "      <td>0</td>\n",
       "      <td>0</td>\n",
       "      <td>1</td>\n",
       "      <td>0</td>\n",
       "      <td>1</td>\n",
       "      <td>0</td>\n",
       "      <td>1</td>\n",
       "      <td>0</td>\n",
       "      <td>0</td>\n",
       "    </tr>\n",
       "  </tbody>\n",
       "</table>\n",
       "</div>"
      ],
      "text/plain": [
       "                      tmsp  amount  success  3D_secured  PSP_Goldcard  \\\n",
       "46282  2019-02-23 18:46:03     183        1           0             0   \n",
       "40193  2019-02-15 20:58:18     232        0           0             0   \n",
       "20840  2019-01-24 18:31:00     298        0           1             0   \n",
       "\n",
       "       PSP_Moneycard  PSP_Simplecard  PSP_UK_Card  country_Austria  \\\n",
       "46282              1               0            0                1   \n",
       "40193              0               0            1                1   \n",
       "20840              0               0            1                0   \n",
       "\n",
       "       country_Germany  country_Switzerland  card_Diners  card_Master  \\\n",
       "46282                0                    0            0            1   \n",
       "40193                0                    0            0            1   \n",
       "20840                1                    0            1            0   \n",
       "\n",
       "       card_Visa  \n",
       "46282          0  \n",
       "40193          0  \n",
       "20840          0  "
      ]
     },
     "execution_count": 5,
     "metadata": {},
     "output_type": "execute_result"
    }
   ],
   "source": [
    "### OneHot-Encoding bzw LabelEncoder -> ausprobieren!! \n",
    "psp_encoded_oh = pd.get_dummies(psp,columns=['PSP','country','card'])\n",
    "psp_encoded_oh.sample(3)"
   ]
  },
  {
   "cell_type": "code",
   "execution_count": 6,
   "id": "80513f1f",
   "metadata": {},
   "outputs": [],
   "source": [
    "### LabelEncoder\n",
    "# Instanziieren des LabelEncoders\n",
    "label_encoder_country = LabelEncoder()\n",
    "label_encoder_card = LabelEncoder()\n",
    "label_encoder_psp = LabelEncoder()\n",
    "\n",
    "psp_encoded_LE = psp.copy()\n",
    "# Die Spalten mit LabelEncoder transformieren\n",
    "psp_encoded_LE['country'] = label_encoder_country.fit_transform(psp_encoded_LE['country'])\n",
    "psp_encoded_LE['card'] = label_encoder_card.fit_transform(psp_encoded_LE['card'])\n",
    "psp_encoded_LE['PSP'] = label_encoder_psp.fit_transform(psp_encoded_LE['PSP'])\n",
    "\n"
   ]
  },
  {
   "cell_type": "code",
   "execution_count": 6,
   "id": "ee6791ef",
   "metadata": {},
   "outputs": [
    {
     "name": "stdout",
     "output_type": "stream",
     "text": [
      "{'Goldcard': 0, 'Moneycard': 1, 'Simplecard': 2, 'UK_Card': 3}\n"
     ]
    }
   ],
   "source": [
    "# Erstelle ein Dictionary mit den entsprechenden Verschlüsselungen\n",
    "encoding_dict = dict(zip(label_encoder_psp.classes_, label_encoder_psp.transform(label_encoder_psp.classes_)))\n",
    "\n",
    "# Ausgabe des Dictionaries\n",
    "print(encoding_dict)"
   ]
  },
  {
   "cell_type": "code",
   "execution_count": 7,
   "id": "6cf737e5",
   "metadata": {},
   "outputs": [
    {
     "data": {
      "text/html": [
       "<div>\n",
       "<style scoped>\n",
       "    .dataframe tbody tr th:only-of-type {\n",
       "        vertical-align: middle;\n",
       "    }\n",
       "\n",
       "    .dataframe tbody tr th {\n",
       "        vertical-align: top;\n",
       "    }\n",
       "\n",
       "    .dataframe thead th {\n",
       "        text-align: right;\n",
       "    }\n",
       "</style>\n",
       "<table border=\"1\" class=\"dataframe\">\n",
       "  <thead>\n",
       "    <tr style=\"text-align: right;\">\n",
       "      <th></th>\n",
       "      <th>tmsp</th>\n",
       "      <th>country</th>\n",
       "      <th>amount</th>\n",
       "      <th>success</th>\n",
       "      <th>PSP</th>\n",
       "      <th>3D_secured</th>\n",
       "      <th>card</th>\n",
       "    </tr>\n",
       "  </thead>\n",
       "  <tbody>\n",
       "    <tr>\n",
       "      <th>0</th>\n",
       "      <td>2019-01-01 00:01:11</td>\n",
       "      <td>1</td>\n",
       "      <td>89</td>\n",
       "      <td>0</td>\n",
       "      <td>3</td>\n",
       "      <td>0</td>\n",
       "      <td>2</td>\n",
       "    </tr>\n",
       "    <tr>\n",
       "      <th>1</th>\n",
       "      <td>2019-01-01 00:01:17</td>\n",
       "      <td>1</td>\n",
       "      <td>89</td>\n",
       "      <td>1</td>\n",
       "      <td>3</td>\n",
       "      <td>0</td>\n",
       "      <td>2</td>\n",
       "    </tr>\n",
       "    <tr>\n",
       "      <th>2</th>\n",
       "      <td>2019-01-01 00:02:49</td>\n",
       "      <td>1</td>\n",
       "      <td>238</td>\n",
       "      <td>0</td>\n",
       "      <td>3</td>\n",
       "      <td>1</td>\n",
       "      <td>0</td>\n",
       "    </tr>\n",
       "    <tr>\n",
       "      <th>3</th>\n",
       "      <td>2019-01-01 00:03:13</td>\n",
       "      <td>1</td>\n",
       "      <td>238</td>\n",
       "      <td>1</td>\n",
       "      <td>3</td>\n",
       "      <td>1</td>\n",
       "      <td>0</td>\n",
       "    </tr>\n",
       "    <tr>\n",
       "      <th>4</th>\n",
       "      <td>2019-01-01 00:04:33</td>\n",
       "      <td>0</td>\n",
       "      <td>124</td>\n",
       "      <td>0</td>\n",
       "      <td>2</td>\n",
       "      <td>0</td>\n",
       "      <td>0</td>\n",
       "    </tr>\n",
       "  </tbody>\n",
       "</table>\n",
       "</div>"
      ],
      "text/plain": [
       "                  tmsp  country  amount  success  PSP  3D_secured  card\n",
       "0  2019-01-01 00:01:11        1      89        0    3           0     2\n",
       "1  2019-01-01 00:01:17        1      89        1    3           0     2\n",
       "2  2019-01-01 00:02:49        1     238        0    3           1     0\n",
       "3  2019-01-01 00:03:13        1     238        1    3           1     0\n",
       "4  2019-01-01 00:04:33        0     124        0    2           0     0"
      ]
     },
     "execution_count": 7,
     "metadata": {},
     "output_type": "execute_result"
    }
   ],
   "source": [
    "psp_encoded_LE.head()"
   ]
  },
  {
   "cell_type": "code",
   "execution_count": 8,
   "id": "47f6e1ce",
   "metadata": {},
   "outputs": [
    {
     "data": {
      "text/html": [
       "<div>\n",
       "<style scoped>\n",
       "    .dataframe tbody tr th:only-of-type {\n",
       "        vertical-align: middle;\n",
       "    }\n",
       "\n",
       "    .dataframe tbody tr th {\n",
       "        vertical-align: top;\n",
       "    }\n",
       "\n",
       "    .dataframe thead th {\n",
       "        text-align: right;\n",
       "    }\n",
       "</style>\n",
       "<table border=\"1\" class=\"dataframe\">\n",
       "  <thead>\n",
       "    <tr style=\"text-align: right;\">\n",
       "      <th></th>\n",
       "      <th>tmsp</th>\n",
       "      <th>country</th>\n",
       "      <th>amount</th>\n",
       "      <th>success</th>\n",
       "      <th>PSP</th>\n",
       "      <th>3D_secured</th>\n",
       "      <th>card</th>\n",
       "    </tr>\n",
       "  </thead>\n",
       "  <tbody>\n",
       "    <tr>\n",
       "      <th>0</th>\n",
       "      <td>2019-01-01 00:01:11</td>\n",
       "      <td>Germany</td>\n",
       "      <td>89</td>\n",
       "      <td>0</td>\n",
       "      <td>UK_Card</td>\n",
       "      <td>0</td>\n",
       "      <td>Visa</td>\n",
       "    </tr>\n",
       "    <tr>\n",
       "      <th>1</th>\n",
       "      <td>2019-01-01 00:01:17</td>\n",
       "      <td>Germany</td>\n",
       "      <td>89</td>\n",
       "      <td>1</td>\n",
       "      <td>UK_Card</td>\n",
       "      <td>0</td>\n",
       "      <td>Visa</td>\n",
       "    </tr>\n",
       "    <tr>\n",
       "      <th>2</th>\n",
       "      <td>2019-01-01 00:02:49</td>\n",
       "      <td>Germany</td>\n",
       "      <td>238</td>\n",
       "      <td>0</td>\n",
       "      <td>UK_Card</td>\n",
       "      <td>1</td>\n",
       "      <td>Diners</td>\n",
       "    </tr>\n",
       "    <tr>\n",
       "      <th>3</th>\n",
       "      <td>2019-01-01 00:03:13</td>\n",
       "      <td>Germany</td>\n",
       "      <td>238</td>\n",
       "      <td>1</td>\n",
       "      <td>UK_Card</td>\n",
       "      <td>1</td>\n",
       "      <td>Diners</td>\n",
       "    </tr>\n",
       "    <tr>\n",
       "      <th>4</th>\n",
       "      <td>2019-01-01 00:04:33</td>\n",
       "      <td>Austria</td>\n",
       "      <td>124</td>\n",
       "      <td>0</td>\n",
       "      <td>Simplecard</td>\n",
       "      <td>0</td>\n",
       "      <td>Diners</td>\n",
       "    </tr>\n",
       "  </tbody>\n",
       "</table>\n",
       "</div>"
      ],
      "text/plain": [
       "                  tmsp  country  amount  success         PSP  3D_secured  \\\n",
       "0  2019-01-01 00:01:11  Germany      89        0     UK_Card           0   \n",
       "1  2019-01-01 00:01:17  Germany      89        1     UK_Card           0   \n",
       "2  2019-01-01 00:02:49  Germany     238        0     UK_Card           1   \n",
       "3  2019-01-01 00:03:13  Germany     238        1     UK_Card           1   \n",
       "4  2019-01-01 00:04:33  Austria     124        0  Simplecard           0   \n",
       "\n",
       "     card  \n",
       "0    Visa  \n",
       "1    Visa  \n",
       "2  Diners  \n",
       "3  Diners  \n",
       "4  Diners  "
      ]
     },
     "execution_count": 8,
     "metadata": {},
     "output_type": "execute_result"
    }
   ],
   "source": [
    "# Dekodierung der kodierten Werte\n",
    "psp_decoded_LE = psp_encoded_LE.copy()\n",
    "\n",
    "# Dekodierung der 'country'-Spalte\n",
    "psp_decoded_LE['country'] = label_encoder_country.inverse_transform(psp_decoded_LE['country'])\n",
    "\n",
    "# Dekodierung der 'card'-Spalte\n",
    "psp_decoded_LE['card'] = label_encoder_card.inverse_transform(psp_decoded_LE['card'])\n",
    "\n",
    "# Dekodierung der 'PSP'-Spalte\n",
    "psp_decoded_LE['PSP'] = label_encoder_psp.inverse_transform(psp_decoded_LE['PSP'])\n",
    "\n",
    "psp_decoded_LE.head()\n"
   ]
  },
  {
   "cell_type": "markdown",
   "id": "0502a72a",
   "metadata": {},
   "source": [
    "## Timestamp in Features"
   ]
  },
  {
   "cell_type": "code",
   "execution_count": 7,
   "id": "a03a6e17",
   "metadata": {},
   "outputs": [],
   "source": [
    "# timestamp in pd-Format\n",
    "psp_encoded_LE['tmsp'] = pd.to_datetime(psp_encoded_LE['tmsp'])\n",
    "\n",
    "psp_encoded_LE['year'] = psp_encoded_LE['tmsp'].dt.year\n",
    "psp_encoded_LE['month'] = psp_encoded_LE['tmsp'].dt.month\n",
    "psp_encoded_LE['day'] = psp_encoded_LE['tmsp'].dt.day\n",
    "psp_encoded_LE['weekday'] = psp_encoded_LE['tmsp'].dt.weekday #0: 'Montag', 1: 'Dienstag', 2: 'Mittwoch', 3: 'Donnerstag', 4: 'Freitag', 5: 'Samstag', 6: 'Sonntag'\n",
    "psp_encoded_LE['hour'] = psp_encoded_LE['tmsp'].dt.hour\n",
    "\n"
   ]
  },
  {
   "cell_type": "code",
   "execution_count": 8,
   "id": "24201580",
   "metadata": {},
   "outputs": [
    {
     "data": {
      "text/html": [
       "<div>\n",
       "<style scoped>\n",
       "    .dataframe tbody tr th:only-of-type {\n",
       "        vertical-align: middle;\n",
       "    }\n",
       "\n",
       "    .dataframe tbody tr th {\n",
       "        vertical-align: top;\n",
       "    }\n",
       "\n",
       "    .dataframe thead th {\n",
       "        text-align: right;\n",
       "    }\n",
       "</style>\n",
       "<table border=\"1\" class=\"dataframe\">\n",
       "  <thead>\n",
       "    <tr style=\"text-align: right;\">\n",
       "      <th></th>\n",
       "      <th>country</th>\n",
       "      <th>amount</th>\n",
       "      <th>success</th>\n",
       "      <th>PSP</th>\n",
       "      <th>3D_secured</th>\n",
       "      <th>card</th>\n",
       "      <th>year</th>\n",
       "      <th>month</th>\n",
       "      <th>day</th>\n",
       "      <th>weekday</th>\n",
       "      <th>hour</th>\n",
       "    </tr>\n",
       "  </thead>\n",
       "  <tbody>\n",
       "    <tr>\n",
       "      <th>27292</th>\n",
       "      <td>1</td>\n",
       "      <td>139</td>\n",
       "      <td>0</td>\n",
       "      <td>3</td>\n",
       "      <td>0</td>\n",
       "      <td>1</td>\n",
       "      <td>2019</td>\n",
       "      <td>2</td>\n",
       "      <td>1</td>\n",
       "      <td>4</td>\n",
       "      <td>21</td>\n",
       "    </tr>\n",
       "    <tr>\n",
       "      <th>9396</th>\n",
       "      <td>1</td>\n",
       "      <td>79</td>\n",
       "      <td>0</td>\n",
       "      <td>3</td>\n",
       "      <td>0</td>\n",
       "      <td>1</td>\n",
       "      <td>2019</td>\n",
       "      <td>1</td>\n",
       "      <td>10</td>\n",
       "      <td>3</td>\n",
       "      <td>8</td>\n",
       "    </tr>\n",
       "    <tr>\n",
       "      <th>21492</th>\n",
       "      <td>0</td>\n",
       "      <td>205</td>\n",
       "      <td>0</td>\n",
       "      <td>3</td>\n",
       "      <td>0</td>\n",
       "      <td>1</td>\n",
       "      <td>2019</td>\n",
       "      <td>1</td>\n",
       "      <td>25</td>\n",
       "      <td>4</td>\n",
       "      <td>15</td>\n",
       "    </tr>\n",
       "    <tr>\n",
       "      <th>21928</th>\n",
       "      <td>1</td>\n",
       "      <td>38</td>\n",
       "      <td>1</td>\n",
       "      <td>3</td>\n",
       "      <td>0</td>\n",
       "      <td>1</td>\n",
       "      <td>2019</td>\n",
       "      <td>1</td>\n",
       "      <td>26</td>\n",
       "      <td>5</td>\n",
       "      <td>7</td>\n",
       "    </tr>\n",
       "    <tr>\n",
       "      <th>5918</th>\n",
       "      <td>1</td>\n",
       "      <td>265</td>\n",
       "      <td>0</td>\n",
       "      <td>3</td>\n",
       "      <td>0</td>\n",
       "      <td>2</td>\n",
       "      <td>2019</td>\n",
       "      <td>1</td>\n",
       "      <td>6</td>\n",
       "      <td>6</td>\n",
       "      <td>15</td>\n",
       "    </tr>\n",
       "  </tbody>\n",
       "</table>\n",
       "</div>"
      ],
      "text/plain": [
       "       country  amount  success  PSP  3D_secured  card  year  month  day  \\\n",
       "27292        1     139        0    3           0     1  2019      2    1   \n",
       "9396         1      79        0    3           0     1  2019      1   10   \n",
       "21492        0     205        0    3           0     1  2019      1   25   \n",
       "21928        1      38        1    3           0     1  2019      1   26   \n",
       "5918         1     265        0    3           0     2  2019      1    6   \n",
       "\n",
       "       weekday  hour  \n",
       "27292        4    21  \n",
       "9396         3     8  \n",
       "21492        4    15  \n",
       "21928        5     7  \n",
       "5918         6    15  "
      ]
     },
     "execution_count": 8,
     "metadata": {},
     "output_type": "execute_result"
    }
   ],
   "source": [
    "psp_encoded_LE.drop(['tmsp'],axis=1, inplace=True)\n",
    "psp_encoded_LE.sample(5)"
   ]
  },
  {
   "cell_type": "markdown",
   "id": "ea08b8d1-cd86-4da5-93c9-07882edc4b49",
   "metadata": {},
   "source": [
    "# Modellentwicklung (Baseline)"
   ]
  },
  {
   "cell_type": "markdown",
   "id": "283e826e-ba62-481b-a9b9-e132e340df8a",
   "metadata": {},
   "source": [
    "## Aufteilen in Training- und Testdaten"
   ]
  },
  {
   "cell_type": "code",
   "execution_count": 9,
   "id": "16106f3a-59a0-4202-a89a-b6b4ae78749b",
   "metadata": {},
   "outputs": [],
   "source": [
    "# Aufteilung der Daten in Trainings- und Testsets\n",
    "# label encoder \n",
    "X = psp_encoded_LE.drop(['success'], axis=1)\n",
    "y = psp_encoded_LE['success']\n",
    "X_train, X_test, y_train, y_test = train_test_split(X, y, test_size=0.2, random_state=42)  ## evtl stratify parameter! -> aber wichtiger: verteilung des splits anschauen für kleinere kategorien"
   ]
  },
  {
   "cell_type": "markdown",
   "id": "b310f529",
   "metadata": {},
   "source": [
    "# Stratified KFold"
   ]
  },
  {
   "cell_type": "code",
   "execution_count": null,
   "id": "d69fb653",
   "metadata": {},
   "outputs": [],
   "source": [
    "# label encoder \n",
    "X = psp_encoded_LE.drop(['success'], axis=1)\n",
    "y = psp_encoded_LE['success']\n",
    "\n",
    "# Anzahl der Folds für die stratifizierte k-Fold Cross-Validation\n",
    "k = 5  # Anzahl der Folds\n",
    "\n",
    "# Initialisierung des stratifizierten KFold\n",
    "skf = StratifiedKFold(n_splits=k, shuffle=True, random_state=42)\n",
    "\n",
    "\n",
    "# Durchführung der stratifizierten k-Fold Cross-Validation\n",
    "for train_index, test_index in skf.split(X, y):\n",
    "    X_train, X_test = X.iloc[train_index], X.iloc[test_index]\n",
    "    y_train, y_test = y.iloc[train_index], y.iloc[test_index]"
   ]
  },
  {
   "cell_type": "code",
   "execution_count": 10,
   "id": "439013ea-eabe-4058-8e3d-9b1c3ac41d52",
   "metadata": {
    "scrolled": true
   },
   "outputs": [
    {
     "data": {
      "text/plain": [
       "DummyClassifier(strategy='stratified')"
      ]
     },
     "execution_count": 10,
     "metadata": {},
     "output_type": "execute_result"
    }
   ],
   "source": [
    "# Baseline-Modell erstellen (vorhersagen der häufigsten Klasse)\n",
    "baseline_model = DummyClassifier(strategy='stratified')\n",
    "\n",
    "# Modell auf den Trainingsdaten trainieren\n",
    "baseline_model.fit(X_train, y_train)\n",
    "\n"
   ]
  },
  {
   "cell_type": "code",
   "execution_count": 11,
   "id": "35da4a4b",
   "metadata": {},
   "outputs": [
    {
     "name": "stdout",
     "output_type": "stream",
     "text": [
      "Genauigkeit des Baseline-Modells: acc:0.672981551279508, precision: 0.19884448724121329, recall:0.20185728250244378, f1:0.200339558573854\n"
     ]
    }
   ],
   "source": [
    "# Vorhersagen für die Testdaten machen\n",
    "pred = baseline_model.predict(X_test)\n",
    "\n",
    "# Genauigkeit des Baseline-Modells berechnen\n",
    "genauigkeit = accuracy_score(y_test, pred)\n",
    "precision = precision_score(y_test, pred)\n",
    "recall = recall_score(y_test, pred)\n",
    "f1 = f1_score(y_test, pred)\n",
    "\n",
    "print(f\"Genauigkeit des Baseline-Modells: acc:{genauigkeit}, precision: {precision}, recall:{recall}, f1:{f1}\")\n",
    "\n"
   ]
  },
  {
   "cell_type": "code",
   "execution_count": 12,
   "id": "65bb9cf5",
   "metadata": {},
   "outputs": [
    {
     "data": {
      "text/plain": [
       "0.4973945446857665"
      ]
     },
     "execution_count": 12,
     "metadata": {},
     "output_type": "execute_result"
    }
   ],
   "source": [
    "roc_auc_score(y_test, pred)"
   ]
  },
  {
   "cell_type": "code",
   "execution_count": 30,
   "id": "2c38e9e8-fe51-4d1d-b04e-eef6606b3f93",
   "metadata": {
    "scrolled": true
   },
   "outputs": [
    {
     "data": {
      "text/plain": [
       "array([[6452, 1710],\n",
       "       [1553,  367]])"
      ]
     },
     "execution_count": 30,
     "metadata": {},
     "output_type": "execute_result"
    }
   ],
   "source": [
    "confusion_matrix(y_test, pred)"
   ]
  },
  {
   "cell_type": "markdown",
   "id": "2c3aa584",
   "metadata": {},
   "source": [
    "## Prod Modell"
   ]
  },
  {
   "cell_type": "markdown",
   "id": "954b6b7b",
   "metadata": {},
   "source": [
    "## DecisionTree"
   ]
  },
  {
   "cell_type": "code",
   "execution_count": 25,
   "id": "620cf5db",
   "metadata": {},
   "outputs": [
    {
     "data": {
      "text/plain": [
       "DecisionTreeClassifier()"
      ]
     },
     "execution_count": 25,
     "metadata": {},
     "output_type": "execute_result"
    }
   ],
   "source": [
    "# Modellauswahl und Training\n",
    "\n",
    "dt_classifier = tree.DecisionTreeClassifier()\n",
    "#model = LogisticRegression()\n",
    "dt_classifier.fit(X_train, y_train)\n"
   ]
  },
  {
   "cell_type": "code",
   "execution_count": 26,
   "id": "3102f8cd",
   "metadata": {},
   "outputs": [],
   "source": [
    "# Modellbewertung\n",
    "dt_predictions = dt_classifier.predict(X_test)\n",
    "dt_proba = dt_classifier.predict_proba(X_test)"
   ]
  },
  {
   "cell_type": "code",
   "execution_count": 17,
   "id": "0b7c0c63",
   "metadata": {},
   "outputs": [
    {
     "data": {
      "text/plain": [
       "array([0. , 0. , 0. , ..., 1. , 0. , 0.5])"
      ]
     },
     "execution_count": 17,
     "metadata": {},
     "output_type": "execute_result"
    }
   ],
   "source": [
    "dt_proba[:,1]"
   ]
  },
  {
   "cell_type": "markdown",
   "id": "4c5c4437",
   "metadata": {},
   "source": [
    "## Kfold"
   ]
  },
  {
   "cell_type": "code",
   "execution_count": 20,
   "id": "ab4deb7f",
   "metadata": {},
   "outputs": [
    {
     "name": "stdout",
     "output_type": "stream",
     "text": [
      "Durchschnittliche AUC: 0.535031905580543\n"
     ]
    }
   ],
   "source": [
    "# label encoder \n",
    "X = psp_encoded_LE.drop(['success'], axis=1)\n",
    "y = psp_encoded_LE['success']\n",
    "\n",
    "# Anzahl der Folds für die stratifizierte k-Fold Cross-Validation\n",
    "k = 5  # Anzahl der Folds\n",
    "\n",
    "# Initialisierung des Klassifikators (hier: Entscheidungsbaum)\n",
    "classifier = DecisionTreeClassifier()\n",
    "\n",
    "# Initialisierung des stratifizierten KFold\n",
    "skf = StratifiedKFold(n_splits=k, shuffle=True, random_state=42)\n",
    "\n",
    "# Listen zur Speicherung der Ergebnisse\n",
    "scores = []\n",
    "\n",
    "# Durchführung der stratifizierten k-Fold Cross-Validation\n",
    "for train_index, test_index in skf.split(X, y):\n",
    "    X_train, X_test = X.iloc[train_index], X.iloc[test_index]\n",
    "    y_train, y_test = y.iloc[train_index], y.iloc[test_index]\n",
    "    \n",
    "    # Modell trainieren\n",
    "    classifier.fit(X_train, y_train)\n",
    "    \n",
    "    # Vorhersagen machen\n",
    "    y_pred = classifier.predict(X_test)\n",
    "    y_proba = classifier.predict_proba(X_test)[:, 1]\n",
    "    \n",
    "    # Genauigkeit berechnen und speichern\n",
    "    auc = roc_auc_score(y_test, y_proba)\n",
    "    scores.append(auc)\n",
    "\n",
    "# Durchschnittliche Genauigkeit berechnen\n",
    "average_auc = np.mean(scores)\n",
    "print(\"Durchschnittliche AUC:\", average_auc)"
   ]
  },
  {
   "cell_type": "code",
   "execution_count": 28,
   "id": "bdef72b2",
   "metadata": {},
   "outputs": [
    {
     "name": "stdout",
     "output_type": "stream",
     "text": [
      "Accuracy: 0.718210672485618\n",
      "f1: 0.7106780700784858\n",
      "AUC: 0.5401574512932275\n"
     ]
    }
   ],
   "source": [
    "print(\"Accuracy:\", accuracy_score(y_test, dt_predictions))\n",
    "print(\"f1:\", f1_score(y_test, dt_predictions,average=\"weighted\"))\n",
    "print(\"AUC:\",roc_auc_score(y_test, dt_predictions))\n",
    "#print(confusion_matrix(y_test, dt_predictions))#\n",
    "#print(classification_report(y_test, dt_predictions))"
   ]
  },
  {
   "cell_type": "code",
   "execution_count": 35,
   "id": "d94507fe",
   "metadata": {},
   "outputs": [
    {
     "name": "stdout",
     "output_type": "stream",
     "text": [
      "0.538225286898636\n"
     ]
    }
   ],
   "source": [
    "print(roc_auc_score(y_test, dt_predictions))"
   ]
  },
  {
   "cell_type": "code",
   "execution_count": 36,
   "id": "04b902b6",
   "metadata": {},
   "outputs": [
    {
     "data": {
      "image/png": "[encoded data removed]",
      "text/plain": [
       "<Figure size 576x432 with 1 Axes>"
      ]
     },
     "metadata": {
      "needs_background": "light"
     },
     "output_type": "display_data"
    }
   ],
   "source": [
    "# Mache Vorhersagen auf den Testdaten\n",
    "y_scores = dt_classifier.predict_proba(X_test)[:, 1]\n",
    "\n",
    "# Berechne die ROC-Kurve und den AUC-Wert\n",
    "fpr, tpr, thresholds = roc_curve(y_test, y_scores)\n",
    "roc_auc = auc(fpr, tpr)\n",
    "\n",
    "# Zeichne die ROC-Kurve\n",
    "plt.figure(figsize=(8, 6))\n",
    "plt.plot(fpr, tpr, color='blue', lw=2, label='ROC curve (AUC = %0.2f)' % roc_auc)\n",
    "plt.plot([0, 1], [0, 1], color='red', lw=2, linestyle='--', label='Random')\n",
    "plt.xlim([0.0, 1.0])\n",
    "plt.ylim([0.0, 1.05])\n",
    "plt.xlabel('False Positive Rate')\n",
    "plt.ylabel('True Positive Rate')\n",
    "plt.title('Receiver Operating Characteristic (ROC)')\n",
    "plt.legend(loc='lower right')\n",
    "plt.show()"
   ]
  },
  {
   "cell_type": "markdown",
   "id": "6e22d6e0",
   "metadata": {},
   "source": [
    "## RandomForest"
   ]
  },
  {
   "cell_type": "code",
   "execution_count": 21,
   "id": "5b5fece7",
   "metadata": {},
   "outputs": [
    {
     "data": {
      "text/plain": [
       "RandomForestClassifier(random_state=42)"
      ]
     },
     "execution_count": 21,
     "metadata": {},
     "output_type": "execute_result"
    }
   ],
   "source": [
    "rf_classifier = RandomForestClassifier(random_state=42)\n",
    "#RandomForestClassifier(n_estimators= 100, min_samples_split= 10, min_samples_leaf= 1, max_features= 'sqrt', max_depth= 10)\n",
    "#RandomForestClassifier(random_state=42)\n",
    "rf_classifier.fit(X_train, y_train)"
   ]
  },
  {
   "cell_type": "code",
   "execution_count": 22,
   "id": "b42324b4",
   "metadata": {},
   "outputs": [],
   "source": [
    "# Modellbewertung\n",
    "rf_predictions = rf_classifier.predict(X_test)\n",
    "rf_proba = rf_classifier.predict_proba(X_test)[:, 1]"
   ]
  },
  {
   "cell_type": "code",
   "execution_count": 29,
   "id": "af889ffd",
   "metadata": {},
   "outputs": [
    {
     "name": "stdout",
     "output_type": "stream",
     "text": [
      "Accuracy: 0.7647292203927792\n",
      "f1: 0.7202954696665952\n",
      "AUC: 0.6324614138624479\n"
     ]
    }
   ],
   "source": [
    "print(\"Accuracy:\", accuracy_score(y_test, rf_predictions))\n",
    "print(\"f1:\", f1_score(y_test, rf_predictions,average=\"weighted\"))\n",
    "print(\"AUC:\",roc_auc_score(y_test, rf_proba))"
   ]
  },
  {
   "cell_type": "code",
   "execution_count": 21,
   "id": "15377833",
   "metadata": {},
   "outputs": [
    {
     "data": {
      "text/plain": [
       "array([[8112,   50],\n",
       "       [1844,   76]])"
      ]
     },
     "execution_count": 21,
     "metadata": {},
     "output_type": "execute_result"
    }
   ],
   "source": [
    "confusion_matrix(y_test, rf_predictions)"
   ]
  },
  {
   "cell_type": "code",
   "execution_count": 232,
   "id": "87f1c9c1",
   "metadata": {},
   "outputs": [
    {
     "data": {
      "image/png": "[encoded data removed]",
      "text/plain": [
       "<Figure size 432x288 with 2 Axes>"
      ]
     },
     "metadata": {
      "needs_background": "light"
     },
     "output_type": "display_data"
    }
   ],
   "source": [
    "cm = confusion_matrix(y_test, rf_predictions)\n",
    "\n",
    "# Confusion Matrix mit seaborn anzeigen\n",
    "sns.heatmap(cm, annot=True, fmt='d', cmap='Blues', xticklabels=['Class 0', 'Class 1'], yticklabels=['Class 0', 'Class 1'])\n",
    "plt.xlabel('Predicted')\n",
    "plt.ylabel('Actual')\n",
    "plt.title('Confusion Matrix')\n",
    "plt.show()"
   ]
  },
  {
   "cell_type": "markdown",
   "id": "d4b937f5",
   "metadata": {},
   "source": [
    "## KFold"
   ]
  },
  {
   "cell_type": "code",
   "execution_count": 19,
   "id": "b1e15e79",
   "metadata": {},
   "outputs": [
    {
     "name": "stdout",
     "output_type": "stream",
     "text": [
      "Durchschnittliche AUC: 0.6722600038682957\n"
     ]
    }
   ],
   "source": [
    "# label encoder \n",
    "X = psp_encoded_LE.drop(['success'], axis=1)\n",
    "y = psp_encoded_LE['success']\n",
    "\n",
    "# Anzahl der Folds für die stratifizierte k-Fold Cross-Validation\n",
    "k = 5  # Anzahl der Folds\n",
    "\n",
    "# Initialisierung des Klassifikators (hier: Entscheidungsbaum)\n",
    "classifier = RandomForestClassifier(n_estimators= 100, min_samples_split= 10, min_samples_leaf= 1, max_features= 'sqrt', max_depth= 10)\n",
    "\n",
    "\n",
    "# Initialisierung des stratifizierten KFold\n",
    "skf = StratifiedKFold(n_splits=k, shuffle=True, random_state=42)\n",
    "\n",
    "# Listen zur Speicherung der Ergebnisse\n",
    "scores = []\n",
    "\n",
    "# Durchführung der stratifizierten k-Fold Cross-Validation\n",
    "for train_index, test_index in skf.split(X, y):\n",
    "    X_train, X_test = X.iloc[train_index], X.iloc[test_index]\n",
    "    y_train, y_test = y.iloc[train_index], y.iloc[test_index]\n",
    "    \n",
    "    # Modell trainieren\n",
    "    classifier.fit(X_train, y_train)\n",
    "    \n",
    "    # Vorhersagen machen\n",
    "    y_pred = classifier.predict(X_test)\n",
    "    y_proba = classifier.predict_proba(X_test)[:, 1]\n",
    "    \n",
    "    # Genauigkeit berechnen und speichern\n",
    "    auc = roc_auc_score(y_test, y_proba)\n",
    "    scores.append(auc)\n",
    "\n",
    "# Durchschnittliche Genauigkeit berechnen\n",
    "average_auc = np.mean(scores)\n",
    "print(\"Durchschnittliche AUC:\", average_auc)"
   ]
  },
  {
   "cell_type": "markdown",
   "id": "484e35ee",
   "metadata": {},
   "source": [
    "## Feature Importance"
   ]
  },
  {
   "cell_type": "code",
   "execution_count": 1,
   "id": "37aa3f58",
   "metadata": {},
   "outputs": [
    {
     "ename": "NameError",
     "evalue": "name 'rf_classifier' is not defined",
     "output_type": "error",
     "traceback": [
      "\u001b[0;31m---------------------------------------------------------------------------\u001b[0m",
      "\u001b[0;31mNameError\u001b[0m                                 Traceback (most recent call last)",
      "Input \u001b[0;32mIn [1]\u001b[0m, in \u001b[0;36m<cell line: 2>\u001b[0;34m()\u001b[0m\n\u001b[1;32m      1\u001b[0m \u001b[38;5;66;03m# Feature Importance berechnen\u001b[39;00m\n\u001b[0;32m----> 2\u001b[0m feature_importance \u001b[38;5;241m=\u001b[39m \u001b[43mrf_classifier\u001b[49m\u001b[38;5;241m.\u001b[39mfeature_importances_\n\u001b[1;32m      4\u001b[0m \u001b[38;5;66;03m# Indizes der sortierten Feature Importance\u001b[39;00m\n\u001b[1;32m      5\u001b[0m sorted_indices \u001b[38;5;241m=\u001b[39m np\u001b[38;5;241m.\u001b[39margsort(feature_importance)[::\u001b[38;5;241m-\u001b[39m\u001b[38;5;241m1\u001b[39m]\n",
      "\u001b[0;31mNameError\u001b[0m: name 'rf_classifier' is not defined"
     ]
    }
   ],
   "source": [
    "\n",
    "\n",
    "# Feature Importance berechnen\n",
    "feature_importance = rf_classifier.feature_importances_\n",
    "\n",
    "# Indizes der sortierten Feature Importance\n",
    "sorted_indices = np.argsort(feature_importance)[::-1]\n",
    "\n",
    "# Namen der Features\n",
    "feature_names = X.columns  # Ersetze 'deine_feature_namen' durch die Namen deiner Features\n",
    "\n",
    "# Die wichtigsten n Features anzeigen\n",
    "n = 3  # Anzahl der Features, die du anzeigen möchtest\n",
    "print(\"Die wichtigsten\", n, \"Variablen:\")\n",
    "for i in range(n):\n",
    "    print(f\"{i+1}. {feature_names[sorted_indices[i]]}: {feature_importance[sorted_indices[i]]}\")\n"
   ]
  },
  {
   "cell_type": "markdown",
   "id": "6a7350bd",
   "metadata": {},
   "source": [
    "### RandomizedSearchCV"
   ]
  },
  {
   "cell_type": "code",
   "execution_count": 20,
   "id": "2ed4a61b",
   "metadata": {},
   "outputs": [],
   "source": [
    "# Definiere den Suchraum für Hyperparameter\n",
    "params = {\n",
    "    'n_estimators': [50, 100, 150],  # Anzahl der Bäume im Wald\n",
    "    'max_depth': [None, 10, 20, 30],  # Maximale Tiefe der Bäume\n",
    "    'min_samples_split': [2, 5, 10],  # Minimale Anzahl von Beispielen, die erforderlich sind, um einen Knoten zu teilen\n",
    "    'min_samples_leaf': [1, 2, 4],  # Minimale Anzahl von Beispielen in einem Blattknoten\n",
    "    'max_features': ['auto', 'sqrt', 'log2']  # Maximale Anzahl von Features, die für den besten Split berücksichtigt werden sollen\n",
    "}"
   ]
  },
  {
   "cell_type": "code",
   "execution_count": 21,
   "id": "13e2dc0c",
   "metadata": {},
   "outputs": [
    {
     "name": "stdout",
     "output_type": "stream",
     "text": [
      "Beste Hyperparameter: {'n_estimators': 150, 'min_samples_split': 10, 'min_samples_leaf': 1, 'max_features': 'sqrt', 'max_depth': 10}\n",
      "ROC AUC Score des besten Modells auf Testdaten: 0.6806577929735358\n"
     ]
    }
   ],
   "source": [
    "# Definiere den Suchraum für Hyperparameter\n",
    "params = {\n",
    "    'n_estimators': [50, 100, 150],  # Anzahl der Bäume im Wald\n",
    "    'max_depth': [None, 10, 20, 30],  # Maximale Tiefe der Bäume\n",
    "    'min_samples_split': [2, 5, 10],  # Minimale Anzahl von Beispielen, die erforderlich sind, um einen Knoten zu teilen\n",
    "    'min_samples_leaf': [1, 2, 4],  # Minimale Anzahl von Beispielen in einem Blattknoten\n",
    "    'max_features': ['auto', 'sqrt', 'log2']  # Maximale Anzahl von Features, die für den besten Split berücksichtigt werden sollen\n",
    "}\n",
    "\n",
    "\n",
    "# Initialisiere KFold\n",
    "kf = StratifiedKFold(n_splits=5, shuffle=True, random_state=42)\n",
    "\n",
    "# Initialisiere den RandomizedSearchCV\n",
    "random_search = RandomizedSearchCV(rf_classifier, params, n_iter=40, cv=kf, scoring='roc_auc', random_state=42)\n",
    "\n",
    "# Führe die Hyperparameter-Optimierung durch\n",
    "random_search.fit(X_train, y_train)\n",
    "\n",
    "# Zeige die besten Hyperparameter\n",
    "print(\"Beste Hyperparameter:\", random_search.best_params_)\n",
    "\n",
    "# Evaluieren des besten Modells auf dem Testdatensatz\n",
    "best_model = random_search.best_estimator_\n",
    "y_pred = best_model.predict_proba(X_test)[:, 1]\n",
    "roc_auc = roc_auc_score(y_test, y_pred)\n",
    "print(\"ROC AUC Score des besten Modells auf Testdaten:\", roc_auc)"
   ]
  },
  {
   "cell_type": "markdown",
   "id": "020ccae8",
   "metadata": {},
   "source": [
    "## GradientBoostingClassifier"
   ]
  },
  {
   "cell_type": "code",
   "execution_count": 18,
   "id": "e7b46cca",
   "metadata": {},
   "outputs": [
    {
     "name": "stdout",
     "output_type": "stream",
     "text": [
      "Beste Hyperparameter: {'n_estimators': 100, 'min_samples_split': 10, 'min_samples_leaf': 2, 'max_features': 'auto', 'max_depth': 5, 'learning_rate': 0.1}\n",
      "ROC AUC Score des besten Modells auf Testdaten: 0.6846029044658172\n"
     ]
    }
   ],
   "source": [
    "# Definiere den Suchraum für Hyperparameter\n",
    "params = {\n",
    "    'n_estimators': [50, 100, 150],  # Anzahl der Bäume im Boosting\n",
    "    'learning_rate': [0.01, 0.05, 0.1, 0.2],  # Lernrate\n",
    "    'max_depth': [3, 5, 7, 9],  # Maximale Tiefe der Bäume\n",
    "    'min_samples_split': [2, 5, 10],  # Minimale Anzahl von Beispielen, die erforderlich sind, um einen Knoten zu teilen\n",
    "    'min_samples_leaf': [1, 2, 4],  # Minimale Anzahl von Beispielen in einem Blattknoten\n",
    "    'max_features': ['auto', 'sqrt', 'log2']  # Maximale Anzahl von Features, die für den besten Split berücksichtigt werden sollen\n",
    "}\n",
    "\n",
    "\n",
    "# Initialisiere KFold\n",
    "kf = StratifiedKFold(n_splits=5, shuffle=True, random_state=42)\n",
    "\n",
    "# Initialisiere den RandomizedSearchCV\n",
    "random_search = RandomizedSearchCV(GradientBoostingClassifier(), params, n_iter=40, cv=kf, scoring='roc_auc', random_state=42)\n",
    "\n",
    "# Führe die Hyperparameter-Optimierung durch\n",
    "random_search.fit(X_train, y_train)\n",
    "\n",
    "# Zeige die besten Hyperparameter\n",
    "print(\"Beste Hyperparameter:\", random_search.best_params_)\n",
    "\n",
    "# Evaluieren des besten Modells auf dem Testdatensatz\n",
    "best_model = random_search.best_estimator_\n",
    "y_pred = best_model.predict_proba(X_test)[:, 1]\n",
    "roc_auc = roc_auc_score(y_test, y_pred)\n",
    "print(\"ROC AUC Score des besten Modells auf Testdaten:\", roc_auc)"
   ]
  },
  {
   "cell_type": "code",
   "execution_count": 14,
   "id": "6e2e61b6",
   "metadata": {},
   "outputs": [
    {
     "data": {
      "text/plain": [
       "GradientBoostingClassifier(max_depth=10, random_state=42)"
      ]
     },
     "execution_count": 14,
     "metadata": {},
     "output_type": "execute_result"
    }
   ],
   "source": [
    "gb = GradientBoostingClassifier(n_estimators=100, learning_rate=0.1, max_depth=10, min_samples_leaf=1, random_state=42)\n",
    "gb.fit(X_train, y_train)"
   ]
  },
  {
   "cell_type": "code",
   "execution_count": 15,
   "id": "3beffae1",
   "metadata": {},
   "outputs": [],
   "source": [
    "gb_proba = gb.predict_proba(X_test)[:,1]\n",
    "gb_pred = gb.predict(X_test)"
   ]
  },
  {
   "cell_type": "code",
   "execution_count": 17,
   "id": "66c3fda3",
   "metadata": {},
   "outputs": [
    {
     "name": "stdout",
     "output_type": "stream",
     "text": [
      "Accuracy: 0.7911128744296767\n",
      "f1: 0.7439869520127878\n",
      "AUC 0.6532984090398595\n"
     ]
    }
   ],
   "source": [
    "print(\"Accuracy:\", accuracy_score(y_test, gb_pred))\n",
    "print(\"f1:\", f1_score(y_test, gb_pred,average=\"weighted\"))\n",
    "print(\"AUC\",roc_auc_score(y_test, gb_proba))"
   ]
  },
  {
   "cell_type": "markdown",
   "id": "3dc02b99",
   "metadata": {},
   "source": [
    "##  XGboost"
   ]
  },
  {
   "cell_type": "code",
   "execution_count": 22,
   "id": "a46b82db",
   "metadata": {
    "scrolled": true
   },
   "outputs": [
    {
     "data": {
      "text/plain": [
       "XGBClassifier(base_score=None, booster=None, callbacks=None,\n",
       "              colsample_bylevel=None, colsample_bynode=None,\n",
       "              colsample_bytree=None, early_stopping_rounds=None,\n",
       "              enable_categorical=False, eval_metric=None, feature_types=None,\n",
       "              gamma=None, gpu_id=None, grow_policy=None, importance_type=None,\n",
       "              interaction_constraints=None, learning_rate=None, max_bin=None,\n",
       "              max_cat_threshold=None, max_cat_to_onehot=None,\n",
       "              max_delta_step=None, max_depth=None, max_leaves=None,\n",
       "              min_child_weight=None, missing=nan, monotone_constraints=None,\n",
       "              n_estimators=100, n_jobs=None, num_parallel_tree=None,\n",
       "              predictor=None, random_state=42, ...)"
      ]
     },
     "execution_count": 22,
     "metadata": {},
     "output_type": "execute_result"
    }
   ],
   "source": [
    "xgb = xgb.XGBClassifier(objective=\"binary:logistic\", random_state=42)\n",
    "xgb.fit(X_train, y_train)\n",
    "\n"
   ]
  },
  {
   "cell_type": "code",
   "execution_count": 23,
   "id": "1008afb2",
   "metadata": {},
   "outputs": [],
   "source": [
    "xgb_proba = xgb.predict_proba(X_test)"
   ]
  },
  {
   "cell_type": "code",
   "execution_count": 24,
   "id": "91a2e814",
   "metadata": {},
   "outputs": [],
   "source": [
    "xgb_pred = xgb.predict(X_test)"
   ]
  },
  {
   "cell_type": "code",
   "execution_count": 25,
   "id": "05d1851d",
   "metadata": {},
   "outputs": [
    {
     "name": "stdout",
     "output_type": "stream",
     "text": [
      "0.5266878267173078\n"
     ]
    }
   ],
   "source": [
    "print(roc_auc_score(y_test, xgb_pred))"
   ]
  },
  {
   "cell_type": "markdown",
   "id": "52941b0f",
   "metadata": {},
   "source": [
    "# Fachliche Logik"
   ]
  },
  {
   "cell_type": "code",
   "execution_count": 26,
   "id": "e6d9f781",
   "metadata": {},
   "outputs": [
    {
     "data": {
      "text/html": [
       "<div>\n",
       "<style scoped>\n",
       "    .dataframe tbody tr th:only-of-type {\n",
       "        vertical-align: middle;\n",
       "    }\n",
       "\n",
       "    .dataframe tbody tr th {\n",
       "        vertical-align: top;\n",
       "    }\n",
       "\n",
       "    .dataframe thead th {\n",
       "        text-align: right;\n",
       "    }\n",
       "</style>\n",
       "<table border=\"1\" class=\"dataframe\">\n",
       "  <thead>\n",
       "    <tr style=\"text-align: right;\">\n",
       "      <th></th>\n",
       "      <th>PSP</th>\n",
       "      <th>SUCCESS</th>\n",
       "      <th>FEE</th>\n",
       "    </tr>\n",
       "  </thead>\n",
       "  <tbody>\n",
       "    <tr>\n",
       "      <th>0</th>\n",
       "      <td>Moneycard</td>\n",
       "      <td>0</td>\n",
       "      <td>2.0</td>\n",
       "    </tr>\n",
       "    <tr>\n",
       "      <th>1</th>\n",
       "      <td>Moneycard</td>\n",
       "      <td>1</td>\n",
       "      <td>5.0</td>\n",
       "    </tr>\n",
       "    <tr>\n",
       "      <th>2</th>\n",
       "      <td>UK_Card</td>\n",
       "      <td>0</td>\n",
       "      <td>1.0</td>\n",
       "    </tr>\n",
       "    <tr>\n",
       "      <th>3</th>\n",
       "      <td>UK_Card</td>\n",
       "      <td>1</td>\n",
       "      <td>3.0</td>\n",
       "    </tr>\n",
       "    <tr>\n",
       "      <th>4</th>\n",
       "      <td>Simplecard</td>\n",
       "      <td>0</td>\n",
       "      <td>0.5</td>\n",
       "    </tr>\n",
       "    <tr>\n",
       "      <th>5</th>\n",
       "      <td>Simplecard</td>\n",
       "      <td>1</td>\n",
       "      <td>1.0</td>\n",
       "    </tr>\n",
       "    <tr>\n",
       "      <th>6</th>\n",
       "      <td>Goldcard</td>\n",
       "      <td>0</td>\n",
       "      <td>5.0</td>\n",
       "    </tr>\n",
       "    <tr>\n",
       "      <th>7</th>\n",
       "      <td>Goldcard</td>\n",
       "      <td>1</td>\n",
       "      <td>10.0</td>\n",
       "    </tr>\n",
       "  </tbody>\n",
       "</table>\n",
       "</div>"
      ],
      "text/plain": [
       "          PSP  SUCCESS   FEE\n",
       "0   Moneycard        0   2.0\n",
       "1   Moneycard        1   5.0\n",
       "2     UK_Card        0   1.0\n",
       "3     UK_Card        1   3.0\n",
       "4  Simplecard        0   0.5\n",
       "5  Simplecard        1   1.0\n",
       "6    Goldcard        0   5.0\n",
       "7    Goldcard        1  10.0"
      ]
     },
     "execution_count": 26,
     "metadata": {},
     "output_type": "execute_result"
    }
   ],
   "source": [
    "# DF erstellen mit den Fees\n",
    "data = [\n",
    "    ['Moneycard', 0, 2],\n",
    "    ['Moneycard', 1, 5],\n",
    "    \n",
    "    ['UK_Card', 0, 1],\n",
    "    ['UK_Card', 1, 3],\n",
    "    \n",
    "    ['Simplecard', 0, 0.5],\n",
    "    ['Simplecard', 1, 1],\n",
    "\n",
    "    ['Goldcard', 0, 5],\n",
    "    ['Goldcard', 1, 10]\n",
    "]\n",
    "\n",
    "# Spaltennamen\n",
    "columns = ['PSP', 'SUCCESS', 'FEE']\n",
    "\n",
    "# DataFrame erstellen\n",
    "fee_df = pd.DataFrame(data, columns=columns)\n",
    "fee_df.head(8)"
   ]
  },
  {
   "cell_type": "code",
   "execution_count": 236,
   "id": "c1f5f3db",
   "metadata": {},
   "outputs": [
    {
     "name": "stdout",
     "output_type": "stream",
     "text": [
      "{'Goldcard': 0, 'Moneycard': 1, 'Simplecard': 2, 'UK_Card': 3}\n"
     ]
    }
   ],
   "source": [
    "# Ausgabe des Dictionaries\n",
    "print(encoding_dict)"
   ]
  },
  {
   "cell_type": "code",
   "execution_count": 27,
   "id": "c554cc2b",
   "metadata": {},
   "outputs": [
    {
     "name": "stdout",
     "output_type": "stream",
     "text": [
      "          PSP  SUCCESS   FEE  PSP_encoded\n",
      "6    Goldcard        0   5.0            0\n",
      "7    Goldcard        1  10.0            0\n",
      "0   Moneycard        0   2.0            1\n",
      "1   Moneycard        1   5.0            1\n",
      "4  Simplecard        0   0.5            2\n",
      "5  Simplecard        1   1.0            2\n",
      "2     UK_Card        0   1.0            3\n",
      "3     UK_Card        1   3.0            3\n"
     ]
    }
   ],
   "source": [
    "# Kodiere die 'PSP'-Spalte im FEE-DataFrame um später zu verbinden mit probability\n",
    "fee_df['PSP_encoded'] = label_encoder_psp.transform(fee_df['PSP'])\n",
    "fee_df = fee_df.sort_values(by='PSP_encoded')\n",
    "# Ergebnis anzeigen\n",
    "print(fee_df)"
   ]
  },
  {
   "cell_type": "code",
   "execution_count": 128,
   "id": "09ad81a7",
   "metadata": {
    "scrolled": true
   },
   "outputs": [
    {
     "data": {
      "text/html": [
       "<div>\n",
       "<style scoped>\n",
       "    .dataframe tbody tr th:only-of-type {\n",
       "        vertical-align: middle;\n",
       "    }\n",
       "\n",
       "    .dataframe tbody tr th {\n",
       "        vertical-align: top;\n",
       "    }\n",
       "\n",
       "    .dataframe thead th {\n",
       "        text-align: right;\n",
       "    }\n",
       "</style>\n",
       "<table border=\"1\" class=\"dataframe\">\n",
       "  <thead>\n",
       "    <tr style=\"text-align: right;\">\n",
       "      <th></th>\n",
       "      <th>country</th>\n",
       "      <th>amount</th>\n",
       "      <th>PSP</th>\n",
       "      <th>3D_secured</th>\n",
       "      <th>card</th>\n",
       "      <th>year</th>\n",
       "      <th>month</th>\n",
       "      <th>day</th>\n",
       "      <th>weekday</th>\n",
       "      <th>hour</th>\n",
       "    </tr>\n",
       "  </thead>\n",
       "  <tbody>\n",
       "    <tr>\n",
       "      <th>5087</th>\n",
       "      <td>0</td>\n",
       "      <td>215</td>\n",
       "      <td>3</td>\n",
       "      <td>0</td>\n",
       "      <td>1</td>\n",
       "      <td>2019</td>\n",
       "      <td>1</td>\n",
       "      <td>5</td>\n",
       "      <td>5</td>\n",
       "      <td>14</td>\n",
       "    </tr>\n",
       "    <tr>\n",
       "      <th>22530</th>\n",
       "      <td>1</td>\n",
       "      <td>240</td>\n",
       "      <td>2</td>\n",
       "      <td>0</td>\n",
       "      <td>0</td>\n",
       "      <td>2019</td>\n",
       "      <td>1</td>\n",
       "      <td>27</td>\n",
       "      <td>6</td>\n",
       "      <td>4</td>\n",
       "    </tr>\n",
       "    <tr>\n",
       "      <th>15518</th>\n",
       "      <td>2</td>\n",
       "      <td>382</td>\n",
       "      <td>3</td>\n",
       "      <td>1</td>\n",
       "      <td>1</td>\n",
       "      <td>2019</td>\n",
       "      <td>1</td>\n",
       "      <td>17</td>\n",
       "      <td>3</td>\n",
       "      <td>20</td>\n",
       "    </tr>\n",
       "    <tr>\n",
       "      <th>3418</th>\n",
       "      <td>1</td>\n",
       "      <td>32</td>\n",
       "      <td>3</td>\n",
       "      <td>1</td>\n",
       "      <td>1</td>\n",
       "      <td>2019</td>\n",
       "      <td>1</td>\n",
       "      <td>3</td>\n",
       "      <td>3</td>\n",
       "      <td>21</td>\n",
       "    </tr>\n",
       "    <tr>\n",
       "      <th>36168</th>\n",
       "      <td>0</td>\n",
       "      <td>211</td>\n",
       "      <td>3</td>\n",
       "      <td>0</td>\n",
       "      <td>1</td>\n",
       "      <td>2019</td>\n",
       "      <td>2</td>\n",
       "      <td>11</td>\n",
       "      <td>0</td>\n",
       "      <td>8</td>\n",
       "    </tr>\n",
       "    <tr>\n",
       "      <th>40382</th>\n",
       "      <td>0</td>\n",
       "      <td>245</td>\n",
       "      <td>3</td>\n",
       "      <td>0</td>\n",
       "      <td>1</td>\n",
       "      <td>2019</td>\n",
       "      <td>2</td>\n",
       "      <td>16</td>\n",
       "      <td>5</td>\n",
       "      <td>2</td>\n",
       "    </tr>\n",
       "    <tr>\n",
       "      <th>4193</th>\n",
       "      <td>0</td>\n",
       "      <td>211</td>\n",
       "      <td>3</td>\n",
       "      <td>1</td>\n",
       "      <td>0</td>\n",
       "      <td>2019</td>\n",
       "      <td>1</td>\n",
       "      <td>4</td>\n",
       "      <td>4</td>\n",
       "      <td>15</td>\n",
       "    </tr>\n",
       "    <tr>\n",
       "      <th>36100</th>\n",
       "      <td>1</td>\n",
       "      <td>249</td>\n",
       "      <td>1</td>\n",
       "      <td>1</td>\n",
       "      <td>1</td>\n",
       "      <td>2019</td>\n",
       "      <td>2</td>\n",
       "      <td>11</td>\n",
       "      <td>0</td>\n",
       "      <td>6</td>\n",
       "    </tr>\n",
       "    <tr>\n",
       "      <th>30235</th>\n",
       "      <td>1</td>\n",
       "      <td>270</td>\n",
       "      <td>2</td>\n",
       "      <td>1</td>\n",
       "      <td>1</td>\n",
       "      <td>2019</td>\n",
       "      <td>2</td>\n",
       "      <td>4</td>\n",
       "      <td>0</td>\n",
       "      <td>18</td>\n",
       "    </tr>\n",
       "    <tr>\n",
       "      <th>26511</th>\n",
       "      <td>1</td>\n",
       "      <td>320</td>\n",
       "      <td>3</td>\n",
       "      <td>0</td>\n",
       "      <td>0</td>\n",
       "      <td>2019</td>\n",
       "      <td>2</td>\n",
       "      <td>1</td>\n",
       "      <td>4</td>\n",
       "      <td>4</td>\n",
       "    </tr>\n",
       "    <tr>\n",
       "      <th>46276</th>\n",
       "      <td>2</td>\n",
       "      <td>271</td>\n",
       "      <td>1</td>\n",
       "      <td>1</td>\n",
       "      <td>0</td>\n",
       "      <td>2019</td>\n",
       "      <td>2</td>\n",
       "      <td>23</td>\n",
       "      <td>5</td>\n",
       "      <td>18</td>\n",
       "    </tr>\n",
       "    <tr>\n",
       "      <th>46088</th>\n",
       "      <td>1</td>\n",
       "      <td>150</td>\n",
       "      <td>1</td>\n",
       "      <td>1</td>\n",
       "      <td>2</td>\n",
       "      <td>2019</td>\n",
       "      <td>2</td>\n",
       "      <td>23</td>\n",
       "      <td>5</td>\n",
       "      <td>12</td>\n",
       "    </tr>\n",
       "    <tr>\n",
       "      <th>15558</th>\n",
       "      <td>1</td>\n",
       "      <td>241</td>\n",
       "      <td>0</td>\n",
       "      <td>0</td>\n",
       "      <td>0</td>\n",
       "      <td>2019</td>\n",
       "      <td>1</td>\n",
       "      <td>17</td>\n",
       "      <td>3</td>\n",
       "      <td>21</td>\n",
       "    </tr>\n",
       "    <tr>\n",
       "      <th>26856</th>\n",
       "      <td>0</td>\n",
       "      <td>129</td>\n",
       "      <td>3</td>\n",
       "      <td>0</td>\n",
       "      <td>2</td>\n",
       "      <td>2019</td>\n",
       "      <td>2</td>\n",
       "      <td>1</td>\n",
       "      <td>4</td>\n",
       "      <td>12</td>\n",
       "    </tr>\n",
       "    <tr>\n",
       "      <th>37337</th>\n",
       "      <td>1</td>\n",
       "      <td>154</td>\n",
       "      <td>3</td>\n",
       "      <td>0</td>\n",
       "      <td>1</td>\n",
       "      <td>2019</td>\n",
       "      <td>2</td>\n",
       "      <td>12</td>\n",
       "      <td>1</td>\n",
       "      <td>13</td>\n",
       "    </tr>\n",
       "    <tr>\n",
       "      <th>14521</th>\n",
       "      <td>1</td>\n",
       "      <td>48</td>\n",
       "      <td>3</td>\n",
       "      <td>1</td>\n",
       "      <td>1</td>\n",
       "      <td>2019</td>\n",
       "      <td>1</td>\n",
       "      <td>16</td>\n",
       "      <td>2</td>\n",
       "      <td>15</td>\n",
       "    </tr>\n",
       "    <tr>\n",
       "      <th>42131</th>\n",
       "      <td>1</td>\n",
       "      <td>8</td>\n",
       "      <td>3</td>\n",
       "      <td>0</td>\n",
       "      <td>1</td>\n",
       "      <td>2019</td>\n",
       "      <td>2</td>\n",
       "      <td>18</td>\n",
       "      <td>0</td>\n",
       "      <td>12</td>\n",
       "    </tr>\n",
       "    <tr>\n",
       "      <th>5265</th>\n",
       "      <td>1</td>\n",
       "      <td>216</td>\n",
       "      <td>3</td>\n",
       "      <td>0</td>\n",
       "      <td>1</td>\n",
       "      <td>2019</td>\n",
       "      <td>1</td>\n",
       "      <td>5</td>\n",
       "      <td>5</td>\n",
       "      <td>19</td>\n",
       "    </tr>\n",
       "    <tr>\n",
       "      <th>30803</th>\n",
       "      <td>0</td>\n",
       "      <td>197</td>\n",
       "      <td>3</td>\n",
       "      <td>0</td>\n",
       "      <td>2</td>\n",
       "      <td>2019</td>\n",
       "      <td>2</td>\n",
       "      <td>5</td>\n",
       "      <td>1</td>\n",
       "      <td>7</td>\n",
       "    </tr>\n",
       "    <tr>\n",
       "      <th>36889</th>\n",
       "      <td>1</td>\n",
       "      <td>401</td>\n",
       "      <td>3</td>\n",
       "      <td>0</td>\n",
       "      <td>1</td>\n",
       "      <td>2019</td>\n",
       "      <td>2</td>\n",
       "      <td>12</td>\n",
       "      <td>1</td>\n",
       "      <td>1</td>\n",
       "    </tr>\n",
       "    <tr>\n",
       "      <th>11048</th>\n",
       "      <td>2</td>\n",
       "      <td>269</td>\n",
       "      <td>1</td>\n",
       "      <td>0</td>\n",
       "      <td>0</td>\n",
       "      <td>2019</td>\n",
       "      <td>1</td>\n",
       "      <td>12</td>\n",
       "      <td>5</td>\n",
       "      <td>5</td>\n",
       "    </tr>\n",
       "    <tr>\n",
       "      <th>2561</th>\n",
       "      <td>2</td>\n",
       "      <td>218</td>\n",
       "      <td>1</td>\n",
       "      <td>0</td>\n",
       "      <td>1</td>\n",
       "      <td>2019</td>\n",
       "      <td>1</td>\n",
       "      <td>3</td>\n",
       "      <td>3</td>\n",
       "      <td>2</td>\n",
       "    </tr>\n",
       "    <tr>\n",
       "      <th>13758</th>\n",
       "      <td>0</td>\n",
       "      <td>249</td>\n",
       "      <td>3</td>\n",
       "      <td>1</td>\n",
       "      <td>2</td>\n",
       "      <td>2019</td>\n",
       "      <td>1</td>\n",
       "      <td>15</td>\n",
       "      <td>1</td>\n",
       "      <td>17</td>\n",
       "    </tr>\n",
       "    <tr>\n",
       "      <th>985</th>\n",
       "      <td>1</td>\n",
       "      <td>258</td>\n",
       "      <td>3</td>\n",
       "      <td>0</td>\n",
       "      <td>1</td>\n",
       "      <td>2019</td>\n",
       "      <td>1</td>\n",
       "      <td>1</td>\n",
       "      <td>1</td>\n",
       "      <td>18</td>\n",
       "    </tr>\n",
       "    <tr>\n",
       "      <th>47771</th>\n",
       "      <td>1</td>\n",
       "      <td>92</td>\n",
       "      <td>3</td>\n",
       "      <td>0</td>\n",
       "      <td>1</td>\n",
       "      <td>2019</td>\n",
       "      <td>2</td>\n",
       "      <td>25</td>\n",
       "      <td>0</td>\n",
       "      <td>21</td>\n",
       "    </tr>\n",
       "    <tr>\n",
       "      <th>9987</th>\n",
       "      <td>1</td>\n",
       "      <td>159</td>\n",
       "      <td>3</td>\n",
       "      <td>0</td>\n",
       "      <td>2</td>\n",
       "      <td>2019</td>\n",
       "      <td>1</td>\n",
       "      <td>10</td>\n",
       "      <td>3</td>\n",
       "      <td>23</td>\n",
       "    </tr>\n",
       "    <tr>\n",
       "      <th>30623</th>\n",
       "      <td>2</td>\n",
       "      <td>24</td>\n",
       "      <td>3</td>\n",
       "      <td>0</td>\n",
       "      <td>1</td>\n",
       "      <td>2019</td>\n",
       "      <td>2</td>\n",
       "      <td>5</td>\n",
       "      <td>1</td>\n",
       "      <td>3</td>\n",
       "    </tr>\n",
       "    <tr>\n",
       "      <th>43316</th>\n",
       "      <td>1</td>\n",
       "      <td>196</td>\n",
       "      <td>3</td>\n",
       "      <td>1</td>\n",
       "      <td>0</td>\n",
       "      <td>2019</td>\n",
       "      <td>2</td>\n",
       "      <td>19</td>\n",
       "      <td>1</td>\n",
       "      <td>22</td>\n",
       "    </tr>\n",
       "    <tr>\n",
       "      <th>31905</th>\n",
       "      <td>1</td>\n",
       "      <td>124</td>\n",
       "      <td>2</td>\n",
       "      <td>1</td>\n",
       "      <td>1</td>\n",
       "      <td>2019</td>\n",
       "      <td>2</td>\n",
       "      <td>6</td>\n",
       "      <td>2</td>\n",
       "      <td>8</td>\n",
       "    </tr>\n",
       "    <tr>\n",
       "      <th>5936</th>\n",
       "      <td>1</td>\n",
       "      <td>257</td>\n",
       "      <td>2</td>\n",
       "      <td>0</td>\n",
       "      <td>2</td>\n",
       "      <td>2019</td>\n",
       "      <td>1</td>\n",
       "      <td>6</td>\n",
       "      <td>6</td>\n",
       "      <td>16</td>\n",
       "    </tr>\n",
       "    <tr>\n",
       "      <th>45590</th>\n",
       "      <td>1</td>\n",
       "      <td>241</td>\n",
       "      <td>3</td>\n",
       "      <td>0</td>\n",
       "      <td>1</td>\n",
       "      <td>2019</td>\n",
       "      <td>2</td>\n",
       "      <td>22</td>\n",
       "      <td>4</td>\n",
       "      <td>19</td>\n",
       "    </tr>\n",
       "    <tr>\n",
       "      <th>45542</th>\n",
       "      <td>0</td>\n",
       "      <td>47</td>\n",
       "      <td>3</td>\n",
       "      <td>1</td>\n",
       "      <td>1</td>\n",
       "      <td>2019</td>\n",
       "      <td>2</td>\n",
       "      <td>22</td>\n",
       "      <td>4</td>\n",
       "      <td>17</td>\n",
       "    </tr>\n",
       "    <tr>\n",
       "      <th>24079</th>\n",
       "      <td>1</td>\n",
       "      <td>152</td>\n",
       "      <td>3</td>\n",
       "      <td>0</td>\n",
       "      <td>0</td>\n",
       "      <td>2019</td>\n",
       "      <td>1</td>\n",
       "      <td>29</td>\n",
       "      <td>1</td>\n",
       "      <td>7</td>\n",
       "    </tr>\n",
       "    <tr>\n",
       "      <th>19967</th>\n",
       "      <td>1</td>\n",
       "      <td>201</td>\n",
       "      <td>1</td>\n",
       "      <td>0</td>\n",
       "      <td>1</td>\n",
       "      <td>2019</td>\n",
       "      <td>1</td>\n",
       "      <td>23</td>\n",
       "      <td>2</td>\n",
       "      <td>16</td>\n",
       "    </tr>\n",
       "    <tr>\n",
       "      <th>10592</th>\n",
       "      <td>1</td>\n",
       "      <td>237</td>\n",
       "      <td>1</td>\n",
       "      <td>0</td>\n",
       "      <td>2</td>\n",
       "      <td>2019</td>\n",
       "      <td>1</td>\n",
       "      <td>11</td>\n",
       "      <td>4</td>\n",
       "      <td>16</td>\n",
       "    </tr>\n",
       "    <tr>\n",
       "      <th>42922</th>\n",
       "      <td>1</td>\n",
       "      <td>136</td>\n",
       "      <td>1</td>\n",
       "      <td>0</td>\n",
       "      <td>1</td>\n",
       "      <td>2019</td>\n",
       "      <td>2</td>\n",
       "      <td>19</td>\n",
       "      <td>1</td>\n",
       "      <td>11</td>\n",
       "    </tr>\n",
       "    <tr>\n",
       "      <th>4413</th>\n",
       "      <td>1</td>\n",
       "      <td>197</td>\n",
       "      <td>3</td>\n",
       "      <td>0</td>\n",
       "      <td>1</td>\n",
       "      <td>2019</td>\n",
       "      <td>1</td>\n",
       "      <td>4</td>\n",
       "      <td>4</td>\n",
       "      <td>20</td>\n",
       "    </tr>\n",
       "    <tr>\n",
       "      <th>14532</th>\n",
       "      <td>1</td>\n",
       "      <td>342</td>\n",
       "      <td>3</td>\n",
       "      <td>0</td>\n",
       "      <td>1</td>\n",
       "      <td>2019</td>\n",
       "      <td>1</td>\n",
       "      <td>16</td>\n",
       "      <td>2</td>\n",
       "      <td>15</td>\n",
       "    </tr>\n",
       "    <tr>\n",
       "      <th>9661</th>\n",
       "      <td>0</td>\n",
       "      <td>276</td>\n",
       "      <td>2</td>\n",
       "      <td>0</td>\n",
       "      <td>1</td>\n",
       "      <td>2019</td>\n",
       "      <td>1</td>\n",
       "      <td>10</td>\n",
       "      <td>3</td>\n",
       "      <td>15</td>\n",
       "    </tr>\n",
       "    <tr>\n",
       "      <th>12773</th>\n",
       "      <td>1</td>\n",
       "      <td>161</td>\n",
       "      <td>2</td>\n",
       "      <td>0</td>\n",
       "      <td>1</td>\n",
       "      <td>2019</td>\n",
       "      <td>1</td>\n",
       "      <td>14</td>\n",
       "      <td>0</td>\n",
       "      <td>16</td>\n",
       "    </tr>\n",
       "    <tr>\n",
       "      <th>36264</th>\n",
       "      <td>2</td>\n",
       "      <td>20</td>\n",
       "      <td>3</td>\n",
       "      <td>0</td>\n",
       "      <td>2</td>\n",
       "      <td>2019</td>\n",
       "      <td>2</td>\n",
       "      <td>11</td>\n",
       "      <td>0</td>\n",
       "      <td>10</td>\n",
       "    </tr>\n",
       "    <tr>\n",
       "      <th>48243</th>\n",
       "      <td>1</td>\n",
       "      <td>227</td>\n",
       "      <td>1</td>\n",
       "      <td>1</td>\n",
       "      <td>2</td>\n",
       "      <td>2019</td>\n",
       "      <td>2</td>\n",
       "      <td>26</td>\n",
       "      <td>1</td>\n",
       "      <td>9</td>\n",
       "    </tr>\n",
       "    <tr>\n",
       "      <th>36813</th>\n",
       "      <td>2</td>\n",
       "      <td>120</td>\n",
       "      <td>3</td>\n",
       "      <td>1</td>\n",
       "      <td>1</td>\n",
       "      <td>2019</td>\n",
       "      <td>2</td>\n",
       "      <td>11</td>\n",
       "      <td>0</td>\n",
       "      <td>23</td>\n",
       "    </tr>\n",
       "    <tr>\n",
       "      <th>18502</th>\n",
       "      <td>0</td>\n",
       "      <td>183</td>\n",
       "      <td>1</td>\n",
       "      <td>0</td>\n",
       "      <td>0</td>\n",
       "      <td>2019</td>\n",
       "      <td>1</td>\n",
       "      <td>21</td>\n",
       "      <td>0</td>\n",
       "      <td>21</td>\n",
       "    </tr>\n",
       "    <tr>\n",
       "      <th>15550</th>\n",
       "      <td>1</td>\n",
       "      <td>120</td>\n",
       "      <td>2</td>\n",
       "      <td>0</td>\n",
       "      <td>0</td>\n",
       "      <td>2019</td>\n",
       "      <td>1</td>\n",
       "      <td>17</td>\n",
       "      <td>3</td>\n",
       "      <td>21</td>\n",
       "    </tr>\n",
       "    <tr>\n",
       "      <th>9224</th>\n",
       "      <td>1</td>\n",
       "      <td>306</td>\n",
       "      <td>2</td>\n",
       "      <td>0</td>\n",
       "      <td>1</td>\n",
       "      <td>2019</td>\n",
       "      <td>1</td>\n",
       "      <td>10</td>\n",
       "      <td>3</td>\n",
       "      <td>3</td>\n",
       "    </tr>\n",
       "    <tr>\n",
       "      <th>19384</th>\n",
       "      <td>2</td>\n",
       "      <td>373</td>\n",
       "      <td>3</td>\n",
       "      <td>1</td>\n",
       "      <td>0</td>\n",
       "      <td>2019</td>\n",
       "      <td>1</td>\n",
       "      <td>22</td>\n",
       "      <td>1</td>\n",
       "      <td>23</td>\n",
       "    </tr>\n",
       "    <tr>\n",
       "      <th>23376</th>\n",
       "      <td>2</td>\n",
       "      <td>26</td>\n",
       "      <td>3</td>\n",
       "      <td>0</td>\n",
       "      <td>0</td>\n",
       "      <td>2019</td>\n",
       "      <td>1</td>\n",
       "      <td>28</td>\n",
       "      <td>0</td>\n",
       "      <td>11</td>\n",
       "    </tr>\n",
       "    <tr>\n",
       "      <th>42375</th>\n",
       "      <td>1</td>\n",
       "      <td>263</td>\n",
       "      <td>2</td>\n",
       "      <td>0</td>\n",
       "      <td>1</td>\n",
       "      <td>2019</td>\n",
       "      <td>2</td>\n",
       "      <td>18</td>\n",
       "      <td>0</td>\n",
       "      <td>19</td>\n",
       "    </tr>\n",
       "    <tr>\n",
       "      <th>4828</th>\n",
       "      <td>0</td>\n",
       "      <td>316</td>\n",
       "      <td>1</td>\n",
       "      <td>0</td>\n",
       "      <td>0</td>\n",
       "      <td>2019</td>\n",
       "      <td>1</td>\n",
       "      <td>5</td>\n",
       "      <td>5</td>\n",
       "      <td>7</td>\n",
       "    </tr>\n",
       "  </tbody>\n",
       "</table>\n",
       "</div>"
      ],
      "text/plain": [
       "       country  amount  PSP  3D_secured  card  year  month  day  weekday  hour\n",
       "5087         0     215    3           0     1  2019      1    5        5    14\n",
       "22530        1     240    2           0     0  2019      1   27        6     4\n",
       "15518        2     382    3           1     1  2019      1   17        3    20\n",
       "3418         1      32    3           1     1  2019      1    3        3    21\n",
       "36168        0     211    3           0     1  2019      2   11        0     8\n",
       "40382        0     245    3           0     1  2019      2   16        5     2\n",
       "4193         0     211    3           1     0  2019      1    4        4    15\n",
       "36100        1     249    1           1     1  2019      2   11        0     6\n",
       "30235        1     270    2           1     1  2019      2    4        0    18\n",
       "26511        1     320    3           0     0  2019      2    1        4     4\n",
       "46276        2     271    1           1     0  2019      2   23        5    18\n",
       "46088        1     150    1           1     2  2019      2   23        5    12\n",
       "15558        1     241    0           0     0  2019      1   17        3    21\n",
       "26856        0     129    3           0     2  2019      2    1        4    12\n",
       "37337        1     154    3           0     1  2019      2   12        1    13\n",
       "14521        1      48    3           1     1  2019      1   16        2    15\n",
       "42131        1       8    3           0     1  2019      2   18        0    12\n",
       "5265         1     216    3           0     1  2019      1    5        5    19\n",
       "30803        0     197    3           0     2  2019      2    5        1     7\n",
       "36889        1     401    3           0     1  2019      2   12        1     1\n",
       "11048        2     269    1           0     0  2019      1   12        5     5\n",
       "2561         2     218    1           0     1  2019      1    3        3     2\n",
       "13758        0     249    3           1     2  2019      1   15        1    17\n",
       "985          1     258    3           0     1  2019      1    1        1    18\n",
       "47771        1      92    3           0     1  2019      2   25        0    21\n",
       "9987         1     159    3           0     2  2019      1   10        3    23\n",
       "30623        2      24    3           0     1  2019      2    5        1     3\n",
       "43316        1     196    3           1     0  2019      2   19        1    22\n",
       "31905        1     124    2           1     1  2019      2    6        2     8\n",
       "5936         1     257    2           0     2  2019      1    6        6    16\n",
       "45590        1     241    3           0     1  2019      2   22        4    19\n",
       "45542        0      47    3           1     1  2019      2   22        4    17\n",
       "24079        1     152    3           0     0  2019      1   29        1     7\n",
       "19967        1     201    1           0     1  2019      1   23        2    16\n",
       "10592        1     237    1           0     2  2019      1   11        4    16\n",
       "42922        1     136    1           0     1  2019      2   19        1    11\n",
       "4413         1     197    3           0     1  2019      1    4        4    20\n",
       "14532        1     342    3           0     1  2019      1   16        2    15\n",
       "9661         0     276    2           0     1  2019      1   10        3    15\n",
       "12773        1     161    2           0     1  2019      1   14        0    16\n",
       "36264        2      20    3           0     2  2019      2   11        0    10\n",
       "48243        1     227    1           1     2  2019      2   26        1     9\n",
       "36813        2     120    3           1     1  2019      2   11        0    23\n",
       "18502        0     183    1           0     0  2019      1   21        0    21\n",
       "15550        1     120    2           0     0  2019      1   17        3    21\n",
       "9224         1     306    2           0     1  2019      1   10        3     3\n",
       "19384        2     373    3           1     0  2019      1   22        1    23\n",
       "23376        2      26    3           0     0  2019      1   28        0    11\n",
       "42375        1     263    2           0     1  2019      2   18        0    19\n",
       "4828         0     316    1           0     0  2019      1    5        5     7"
      ]
     },
     "execution_count": 128,
     "metadata": {},
     "output_type": "execute_result"
    }
   ],
   "source": [
    "# Beispiel TestData für Testen\n",
    "df_xt = X_test.iloc[:50]\n",
    "df_xt"
   ]
  },
  {
   "cell_type": "code",
   "execution_count": 121,
   "id": "3d881cfe",
   "metadata": {},
   "outputs": [],
   "source": [
    "# Berechne WK für jeden PSP\n",
    "\n",
    "def calculateProba():\n",
    "    probas=[]\n",
    "    \n",
    "    # Für jeden PSP im Datenpunkt WK vorhersagen\n",
    "    for psp in range(0,4):\n",
    "        df_xt['PSP']= psp\n",
    "        # Pro PSP und Success=0/1 füge in Liste hinzu\n",
    "        proba_0 = rf_classifier.predict_proba(df_xt)[:,0]\n",
    "        proba_1 = rf_classifier.predict_proba(df_xt)[:,1]\n",
    "        probas.extend(proba_0)\n",
    "        probas.extend(proba_1)\n",
    "        #print(f\"WK für Success bei PSP {psp}:\", proba_1)\n",
    "    return(probas)\n",
    "\n",
    "   \n",
    "    "
   ]
  },
  {
   "cell_type": "code",
   "execution_count": 122,
   "id": "1b2f413b",
   "metadata": {},
   "outputs": [
    {
     "data": {
      "text/plain": [
       "[0.6491095336057349,\n",
       " 0.3508904663942653,\n",
       " 0.8175248809640904,\n",
       " 0.18247511903590916,\n",
       " 0.8854563576930495,\n",
       " 0.11454364230695076,\n",
       " 0.9150961203078982,\n",
       " 0.08490387969210181]"
      ]
     },
     "execution_count": 122,
     "metadata": {},
     "output_type": "execute_result"
    }
   ],
   "source": [
    "calculateProba()"
   ]
  },
  {
   "cell_type": "code",
   "execution_count": 124,
   "id": "4425e9a2",
   "metadata": {},
   "outputs": [],
   "source": [
    "def choose_best_psp(proba, fee_df):\n",
    "\n",
    "    # Gewichte initialisieren\n",
    "    success_weight=0.6\n",
    "    fee_weight=  -0.4\n",
    "    success_threshold = 0.8\n",
    "    \n",
    "    # Füge die Erfolgswahrscheinlichkeit (proba) zum Gebühren-Datensatz hinzu\n",
    "    fee_df['Probability'] = proba\n",
    "    #print(fee_df.head(8))\n",
    "    \n",
    "    \n",
    "    # Filtere den DataFrame, um nur die Zeilen mit Success=1 zu behalten\n",
    "    fee_df_success_1 = fee_df[fee_df['SUCCESS'] == 1]\n",
    "    \n",
    "    # Gruppiere nach PSP und sortiere nach der höchten Proba\n",
    "    best_psp = fee_df_success_1.groupby('PSP').agg({'Probability': 'max', 'FEE': 'min'}).reset_index()\n",
    "\n",
    "    \n",
    "    \n",
    "    # Überprüfe, ob eine Erfolgswahrscheinlichkeit größer als der Schwellenwert ist\n",
    "    for index, row in best_psp.iterrows():\n",
    "        if row['Probability'] > success_threshold:\n",
    "            return row['PSP']  # Wähle den PSP direkt aus dem DataFrame\n",
    "            \n",
    "    \n",
    "    \n",
    "    # Falls alle unter threshold liegen:\n",
    "    \n",
    "    # Berechne einen kombinierten Score, der die Erfolgswahrscheinlichkeit und die Gebühren berücksichtigt\n",
    "    best_psp['Combined_Score'] = success_weight * best_psp['Probability'] + fee_weight * best_psp['FEE']\n",
    "    \n",
    "    print(best_psp)\n",
    "    \n",
    "    # Wähle den PSP mit dem höchsten kombinierten Score\n",
    "    best_psp = best_psp.loc[best_psp['Combined_Score'].idxmax()]\n",
    "    \n",
    "    return best_psp['PSP']\n",
    "        \n",
    "                  \n"
   ]
  },
  {
   "cell_type": "code",
   "execution_count": null,
   "id": "b1219656",
   "metadata": {},
   "outputs": [],
   "source": []
  }
 ],
 "metadata": {
  "kernelspec": {
   "display_name": "Python 3.8.8 ('base')",
   "language": "python",
   "name": "python388jvsc74a57bd0c2584fad560103e5e13b812c1a41cee322118ae46ed584eb77c1b7afbff0a60b"
  },
  "language_info": {
   "codemirror_mode": {
    "name": "ipython",
    "version": 3
   },
   "file_extension": ".py",
   "mimetype": "text/x-python",
   "name": "python",
   "nbconvert_exporter": "python",
   "pygments_lexer": "ipython3",
   "version": "3.8.13"
  }
 },
 "nbformat": 4,
 "nbformat_minor": 5
}
